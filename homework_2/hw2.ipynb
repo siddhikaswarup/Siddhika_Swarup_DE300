{
 "cells": [
  {
   "cell_type": "markdown",
   "id": "c8ab5433",
   "metadata": {},
   "source": [
    "To run the following code, `pip install pandas, numpy, seaborn, duckdb, matplotlib, and cassandra-sigv4`. The expected outputs are as follow"
   ]
  },
  {
   "cell_type": "code",
   "execution_count": null,
   "id": "296b7c20",
   "metadata": {},
   "outputs": [],
   "source": [
    "!pip install duckdb==1.2.2\n",
    "import duckdb"
   ]
  },
  {
   "cell_type": "markdown",
   "id": "4269306b",
   "metadata": {},
   "source": [
    "### Part I"
   ]
  },
  {
   "cell_type": "code",
   "execution_count": 209,
   "id": "5c84e5b2",
   "metadata": {},
   "outputs": [],
   "source": [
    "csv_folder = r\"C:\\Users\\siddh\\OneDrive - Northwestern University\\Desktop\\DATA ENG 300\\HW2\\mimic-iii-clinical-database-demo-1.4\\mimic-iii-clinical-database-demo-1.4\"\n",
    "\n",
    "conn = duckdb.connect(\"mimiciii.db\")\n",
    "files = [\n",
    "    \"ADMISSIONS.csv\",\n",
    "    \"ICUSTAYS.csv\",\n",
    "    \"PATIENTS.csv\",\n",
    "    \"PROCEDURES_ICD.csv\",\n",
    "    \"D_ICD_PROCEDURES.csv\",\n",
    "    \"DRGCODES.csv\",\n",
    "    \"PRESCRIPTIONS.csv\"\n",
    "]\n",
    "\n",
    "for file in files:\n",
    "    table_name = file.replace(\".csv\", \"\").lower()\n",
    "    file_path = f\"{csv_folder}\\\\{file}\"  \n",
    "    conn.execute(f\"\"\"\n",
    "        CREATE OR REPLACE TABLE {table_name} AS\n",
    "        SELECT * FROM read_csv_auto('{file_path}')\n",
    "    \"\"\")"
   ]
  },
  {
   "cell_type": "markdown",
   "id": "d7c62fe0",
   "metadata": {},
   "source": [
    "#### Question 1"
   ]
  },
  {
   "cell_type": "code",
   "execution_count": 210,
   "id": "9d2814df",
   "metadata": {},
   "outputs": [
    {
     "data": {
      "text/plain": [
       "┌──────────────────────────────────────────────────────────┐\n",
       "│                        ethnicity                         │\n",
       "│                         varchar                          │\n",
       "├──────────────────────────────────────────────────────────┤\n",
       "│ AMERICAN INDIAN/ALASKA NATIVE FEDERALLY RECOGNIZED TRIBE │\n",
       "│ ASIAN                                                    │\n",
       "│ BLACK/AFRICAN AMERICAN                                   │\n",
       "│ HISPANIC OR LATINO                                       │\n",
       "│ HISPANIC/LATINO - PUERTO RICAN                           │\n",
       "│ OTHER                                                    │\n",
       "│ UNABLE TO OBTAIN                                         │\n",
       "│ UNKNOWN/NOT SPECIFIED                                    │\n",
       "│ WHITE                                                    │\n",
       "└──────────────────────────────────────────────────────────┘"
      ]
     },
     "execution_count": 210,
     "metadata": {},
     "output_type": "execute_result"
    }
   ],
   "source": [
    "conn.sql(\n",
    "    \"\"\"\n",
    "    SELECT DISTINCT ethnicity\n",
    "    FROM admissions\n",
    "    ORDER BY ethnicity;\n",
    "    \"\"\"\n",
    ")\n"
   ]
  },
  {
   "cell_type": "code",
   "execution_count": 211,
   "id": "bc4cf3d7",
   "metadata": {},
   "outputs": [],
   "source": [
    "conn.sql(\n",
    "    \"\"\"\n",
    "    CREATE OR REPLACE TABLE admissions_cleaned AS\n",
    "    SELECT *,\n",
    "        CASE\n",
    "            WHEN LOWER(ethnicity) IN (\n",
    "                'unknown', \n",
    "                'unknown/not specified', \n",
    "                'unable to obtain', \n",
    "                'other', \n",
    "                'other/unknown'\n",
    "            ) THEN 'Other/Unknown'\n",
    "            ELSE ethnicity\n",
    "        END AS ethnicity_cleaned\n",
    "    FROM admissions;\n",
    "    \"\"\"\n",
    ")\n"
   ]
  },
  {
   "cell_type": "code",
   "execution_count": null,
   "id": "21bffef9",
   "metadata": {},
   "outputs": [],
   "source": [
    "conn.sql(\n",
    "    \"\"\"\n",
    "    CREATE OR REPLACE TABLE prescriptions_cleaned AS\n",
    "    SELECT \n",
    "        pr.hadm_id,\n",
    "        pr.drug,\n",
    "        TRY_CAST(pr.dose_val_rx AS DOUBLE) AS dose,\n",
    "        ac.ethnicity_cleaned AS ethnicity\n",
    "    FROM prescriptions pr\n",
    "    JOIN admissions_cleaned ac\n",
    "        ON pr.hadm_id = ac.hadm_id\n",
    "    WHERE pr.dose_val_rx IS NOT NULL;\n",
    "    \"\"\"\n",
    ")"
   ]
  },
  {
   "cell_type": "code",
   "execution_count": null,
   "id": "0c784831",
   "metadata": {},
   "outputs": [],
   "source": [
    "conn.sql(\n",
    "    \"\"\"\n",
    "    CREATE OR REPLACE TABLE drug_totals_by_ethnicity AS\n",
    "    SELECT\n",
    "        ethnicity,\n",
    "        drug,\n",
    "        SUM(dose) AS total_amount\n",
    "    FROM prescriptions_cleaned\n",
    "    GROUP BY ethnicity, drug;\n",
    "    \"\"\"\n",
    ")"
   ]
  },
  {
   "cell_type": "code",
   "execution_count": 214,
   "id": "abd2150e",
   "metadata": {},
   "outputs": [
    {
     "data": {
      "text/html": [
       "<div>\n",
       "<style scoped>\n",
       "    .dataframe tbody tr th:only-of-type {\n",
       "        vertical-align: middle;\n",
       "    }\n",
       "\n",
       "    .dataframe tbody tr th {\n",
       "        vertical-align: top;\n",
       "    }\n",
       "\n",
       "    .dataframe thead th {\n",
       "        text-align: right;\n",
       "    }\n",
       "</style>\n",
       "<table border=\"1\" class=\"dataframe\">\n",
       "  <thead>\n",
       "    <tr style=\"text-align: right;\">\n",
       "      <th></th>\n",
       "      <th>ethnicity</th>\n",
       "      <th>drug</th>\n",
       "      <th>total_amount</th>\n",
       "      <th>rn</th>\n",
       "    </tr>\n",
       "  </thead>\n",
       "  <tbody>\n",
       "    <tr>\n",
       "      <th>0</th>\n",
       "      <td>AMERICAN INDIAN/ALASKA NATIVE FEDERALLY RECOGN...</td>\n",
       "      <td>5% Dextrose</td>\n",
       "      <td>16900.0</td>\n",
       "      <td>1</td>\n",
       "    </tr>\n",
       "    <tr>\n",
       "      <th>1</th>\n",
       "      <td>ASIAN</td>\n",
       "      <td>Heparin</td>\n",
       "      <td>15000.0</td>\n",
       "      <td>1</td>\n",
       "    </tr>\n",
       "    <tr>\n",
       "      <th>2</th>\n",
       "      <td>BLACK/AFRICAN AMERICAN</td>\n",
       "      <td>Heparin Sodium</td>\n",
       "      <td>150000.0</td>\n",
       "      <td>1</td>\n",
       "    </tr>\n",
       "    <tr>\n",
       "      <th>3</th>\n",
       "      <td>HISPANIC OR LATINO</td>\n",
       "      <td>5% Dextrose</td>\n",
       "      <td>19950.0</td>\n",
       "      <td>1</td>\n",
       "    </tr>\n",
       "    <tr>\n",
       "      <th>4</th>\n",
       "      <td>HISPANIC/LATINO - PUERTO RICAN</td>\n",
       "      <td>0.9% Sodium Chloride</td>\n",
       "      <td>43663.0</td>\n",
       "      <td>1</td>\n",
       "    </tr>\n",
       "  </tbody>\n",
       "</table>\n",
       "</div>"
      ],
      "text/plain": [
       "                                           ethnicity                  drug  \\\n",
       "0  AMERICAN INDIAN/ALASKA NATIVE FEDERALLY RECOGN...           5% Dextrose   \n",
       "1                                              ASIAN               Heparin   \n",
       "2                             BLACK/AFRICAN AMERICAN        Heparin Sodium   \n",
       "3                                 HISPANIC OR LATINO           5% Dextrose   \n",
       "4                     HISPANIC/LATINO - PUERTO RICAN  0.9% Sodium Chloride   \n",
       "\n",
       "   total_amount  rn  \n",
       "0       16900.0   1  \n",
       "1       15000.0   1  \n",
       "2      150000.0   1  \n",
       "3       19950.0   1  \n",
       "4       43663.0   1  "
      ]
     },
     "execution_count": 214,
     "metadata": {},
     "output_type": "execute_result"
    }
   ],
   "source": [
    "amount_by_ethnicity_df = conn.sql(\n",
    "    \"\"\"\n",
    "    SELECT *\n",
    "    FROM (\n",
    "        SELECT *,\n",
    "            ROW_NUMBER() OVER (PARTITION BY ethnicity ORDER BY total_amount DESC) AS rn\n",
    "        FROM drug_totals_by_ethnicity\n",
    "    )\n",
    "    WHERE rn = 1\n",
    "    ORDER BY ethnicity;\n",
    "    \"\"\"\n",
    ").df()\n",
    "amount_by_ethnicity_df.head()"
   ]
  },
  {
   "cell_type": "markdown",
   "id": "02bb2842",
   "metadata": {},
   "source": [
    " (b) I have written a series of smaller queries to answer question 1. To find the total drugs and their amount used by ethnicity, the query first groups together the `\"UNKNOWN\", \"UNKNOWN/NOT SPECIFIED\", \"UNABLE TO OBTAIN\"`,and `\"OTHER/UNKNOWN\"` categories into one category called `\"Other/Unknown\"` to get rid of redundant data. The query then, joins prescriptions and admissions using `hadm_id` to map each drug to the patient's ethnicity. Then, assuming that `dose_val_rx` is the amount of a drug used, the next query sums up this value while grouping by ethnicity and drug for each group to calculate the total amount of each drug used by ethnicity. Finally, `ROW_NUMBER()` is used to get the top usage in each ethnicity group based on the previously calculated total dose value."
   ]
  },
  {
   "cell_type": "code",
   "execution_count": 215,
   "id": "a42a7590",
   "metadata": {},
   "outputs": [
    {
     "data": {
      "image/png": "[encoded data removed]",
      "text/plain": [
       "<Figure size 1200x600 with 1 Axes>"
      ]
     },
     "metadata": {},
     "output_type": "display_data"
    }
   ],
   "source": [
    "import matplotlib.pyplot as plt\n",
    "import pandas as pd\n",
    "\n",
    "amount_by_ethnicity_df[\"total_amount\"] = pd.to_numeric(amount_by_ethnicity_df[\"total_amount\"], errors='coerce')\n",
    "amount_by_ethnicity_df = amount_by_ethnicity_df.sort_values(by='total_amount', ascending=False)\n",
    "\n",
    "plt.figure(figsize=(12, 6))\n",
    "bars = plt.bar(amount_by_ethnicity_df[\"ethnicity\"], amount_by_ethnicity_df[\"total_amount\"])\n",
    "\n",
    "for bar, drug in zip(bars, amount_by_ethnicity_df[\"drug\"]):\n",
    "    yval = bar.get_height()\n",
    "    plt.text(bar.get_x() + bar.get_width() / 2, yval + 2000, drug, ha='center', va='bottom', fontsize=9, rotation=90)\n",
    "\n",
    "\n",
    "plt.title(\"Top Drug Dosage by Ethnicity (Total Amount)\", fontsize=14)\n",
    "plt.xlabel(\"Ethnicity\", fontsize=12)\n",
    "plt.ylabel(\"Total Drug Dosage\", fontsize=12)\n",
    "plt.xticks(rotation=45, ha='right')\n",
    "plt.tight_layout()\n",
    "plt.show()"
   ]
  },
  {
   "cell_type": "markdown",
   "id": "df0f5706",
   "metadata": {},
   "source": [
    "\n",
    "(d) As can be seen in the bar graph above, Heparin is the most used drug among White people with a value of 427700 which is by far the highest number of doses in all the ethnicity groups. The next highest number of drug doses is 150000 for Heparin Sodium for people of Black or African American ethnicity. Puerto Rican Hispanic/Latino people use 0.9% Sodium Chloride the most. Hispanic/Latino people use 5% dextrose the most while Asians use Heparin the most. This suggests that Heparin and its variants seem to be the most commonly used drugs across ethnicities."
   ]
  },
  {
   "cell_type": "markdown",
   "id": "769fe12b",
   "metadata": {},
   "source": [
    "#### Question 2"
   ]
  },
  {
   "cell_type": "code",
   "execution_count": 216,
   "id": "892a30fa",
   "metadata": {},
   "outputs": [],
   "source": [
    "conn.sql(\n",
    "    \"\"\"\n",
    "    CREATE OR REPLACE TABLE patient_age AS\n",
    "    SELECT \n",
    "        p.subject_id,\n",
    "        a.hadm_id,\n",
    "        DATE_PART('year', AGE(a.admittime, p.dob)) AS age\n",
    "    FROM patients p\n",
    "    JOIN admissions a ON p.subject_id = a.subject_id;\n",
    "    \"\"\"\n",
    ")"
   ]
  },
  {
   "cell_type": "code",
   "execution_count": null,
   "id": "6faf4fe5",
   "metadata": {},
   "outputs": [],
   "source": [
    "conn.sql(\n",
    "    \"\"\"\n",
    "    CREATE OR REPLACE TABLE patient_age_grouped AS\n",
    "    SELECT *,\n",
    "        CASE \n",
    "            WHEN age <= 19 THEN '<=19'\n",
    "            WHEN age BETWEEN 20 AND 49 THEN '20-49'\n",
    "            WHEN age BETWEEN 50 AND 79 THEN '50-79'\n",
    "            ELSE '>80'\n",
    "        END AS age_group\n",
    "    FROM patient_age;\n",
    "    \"\"\"\n",
    ")"
   ]
  },
  {
   "cell_type": "code",
   "execution_count": null,
   "id": "4cdbb963",
   "metadata": {},
   "outputs": [],
   "source": [
    "conn.sql(\n",
    "    \"\"\"\n",
    "    CREATE OR REPLACE TABLE procedures_by_age AS\n",
    "    SELECT \n",
    "        pag.age_group,\n",
    "        pr.icd9_code\n",
    "    FROM patient_age_grouped pag\n",
    "    JOIN procedures_icd pr \n",
    "        ON pag.subject_id = pr.subject_id AND pag.hadm_id = pr.hadm_id;\n",
    "    \"\"\"\n",
    ")"
   ]
  },
  {
   "cell_type": "code",
   "execution_count": null,
   "id": "a6b97af1",
   "metadata": {},
   "outputs": [],
   "source": [
    "conn.sql(\n",
    "    \"\"\"\n",
    "    CREATE OR REPLACE TABLE procedure_counts AS\n",
    "    SELECT \n",
    "        age_group,\n",
    "        icd9_code,\n",
    "        COUNT(*) AS proc_count\n",
    "    FROM procedures_by_age\n",
    "    GROUP BY age_group, icd9_code;\n",
    "    \"\"\"\n",
    ")"
   ]
  },
  {
   "cell_type": "code",
   "execution_count": null,
   "id": "4903ebaf",
   "metadata": {},
   "outputs": [],
   "source": [
    "conn.sql(\n",
    "    \"\"\"\n",
    "    CREATE OR REPLACE TABLE procedures_with_names AS\n",
    "    SELECT \n",
    "        pc.age_group,\n",
    "        pc.icd9_code,\n",
    "        dp.long_title AS procedure_name,\n",
    "        pc.proc_count\n",
    "    FROM procedure_counts pc\n",
    "    LEFT JOIN d_icd_procedures dp ON pc.icd9_code = dp.icd9_code;\n",
    "    \"\"\"\n",
    ")"
   ]
  },
  {
   "cell_type": "code",
   "execution_count": 251,
   "id": "eabc618d",
   "metadata": {},
   "outputs": [
    {
     "data": {
      "text/html": [
       "<div>\n",
       "<style scoped>\n",
       "    .dataframe tbody tr th:only-of-type {\n",
       "        vertical-align: middle;\n",
       "    }\n",
       "\n",
       "    .dataframe tbody tr th {\n",
       "        vertical-align: top;\n",
       "    }\n",
       "\n",
       "    .dataframe thead th {\n",
       "        text-align: right;\n",
       "    }\n",
       "</style>\n",
       "<table border=\"1\" class=\"dataframe\">\n",
       "  <thead>\n",
       "    <tr style=\"text-align: right;\">\n",
       "      <th></th>\n",
       "      <th>age_group</th>\n",
       "      <th>icd9_code</th>\n",
       "      <th>procedure_name</th>\n",
       "      <th>proc_count</th>\n",
       "      <th>rn</th>\n",
       "    </tr>\n",
       "  </thead>\n",
       "  <tbody>\n",
       "    <tr>\n",
       "      <th>0</th>\n",
       "      <td>&lt;=19</td>\n",
       "      <td>3893</td>\n",
       "      <td>Venous catheterization, not elsewhere classified</td>\n",
       "      <td>3</td>\n",
       "      <td>1</td>\n",
       "    </tr>\n",
       "    <tr>\n",
       "      <th>1</th>\n",
       "      <td>&lt;=19</td>\n",
       "      <td>8659</td>\n",
       "      <td>Closure of skin and subcutaneous tissue of oth...</td>\n",
       "      <td>2</td>\n",
       "      <td>2</td>\n",
       "    </tr>\n",
       "    <tr>\n",
       "      <th>2</th>\n",
       "      <td>&lt;=19</td>\n",
       "      <td>0118</td>\n",
       "      <td>Other diagnostic procedures on brain and cereb...</td>\n",
       "      <td>1</td>\n",
       "      <td>3</td>\n",
       "    </tr>\n",
       "    <tr>\n",
       "      <th>3</th>\n",
       "      <td>20-49</td>\n",
       "      <td>3893</td>\n",
       "      <td>Venous catheterization, not elsewhere classified</td>\n",
       "      <td>8</td>\n",
       "      <td>1</td>\n",
       "    </tr>\n",
       "    <tr>\n",
       "      <th>4</th>\n",
       "      <td>20-49</td>\n",
       "      <td>966</td>\n",
       "      <td>Enteral infusion of concentrated nutritional s...</td>\n",
       "      <td>7</td>\n",
       "      <td>2</td>\n",
       "    </tr>\n",
       "    <tr>\n",
       "      <th>5</th>\n",
       "      <td>20-49</td>\n",
       "      <td>5491</td>\n",
       "      <td>Percutaneous abdominal drainage</td>\n",
       "      <td>6</td>\n",
       "      <td>3</td>\n",
       "    </tr>\n",
       "    <tr>\n",
       "      <th>6</th>\n",
       "      <td>50-79</td>\n",
       "      <td>3893</td>\n",
       "      <td>Venous catheterization, not elsewhere classified</td>\n",
       "      <td>26</td>\n",
       "      <td>1</td>\n",
       "    </tr>\n",
       "    <tr>\n",
       "      <th>7</th>\n",
       "      <td>50-79</td>\n",
       "      <td>966</td>\n",
       "      <td>Enteral infusion of concentrated nutritional s...</td>\n",
       "      <td>22</td>\n",
       "      <td>2</td>\n",
       "    </tr>\n",
       "    <tr>\n",
       "      <th>8</th>\n",
       "      <td>50-79</td>\n",
       "      <td>9904</td>\n",
       "      <td>Transfusion of packed cells</td>\n",
       "      <td>13</td>\n",
       "      <td>3</td>\n",
       "    </tr>\n",
       "    <tr>\n",
       "      <th>9</th>\n",
       "      <td>&gt;80</td>\n",
       "      <td>3893</td>\n",
       "      <td>Venous catheterization, not elsewhere classified</td>\n",
       "      <td>19</td>\n",
       "      <td>1</td>\n",
       "    </tr>\n",
       "    <tr>\n",
       "      <th>10</th>\n",
       "      <td>&gt;80</td>\n",
       "      <td>9904</td>\n",
       "      <td>Transfusion of packed cells</td>\n",
       "      <td>13</td>\n",
       "      <td>2</td>\n",
       "    </tr>\n",
       "    <tr>\n",
       "      <th>11</th>\n",
       "      <td>&gt;80</td>\n",
       "      <td>9604</td>\n",
       "      <td>Insertion of endotracheal tube</td>\n",
       "      <td>8</td>\n",
       "      <td>3</td>\n",
       "    </tr>\n",
       "  </tbody>\n",
       "</table>\n",
       "</div>"
      ],
      "text/plain": [
       "   age_group icd9_code                                     procedure_name  \\\n",
       "0       <=19      3893   Venous catheterization, not elsewhere classified   \n",
       "1       <=19      8659  Closure of skin and subcutaneous tissue of oth...   \n",
       "2       <=19      0118  Other diagnostic procedures on brain and cereb...   \n",
       "3      20-49      3893   Venous catheterization, not elsewhere classified   \n",
       "4      20-49       966  Enteral infusion of concentrated nutritional s...   \n",
       "5      20-49      5491                    Percutaneous abdominal drainage   \n",
       "6      50-79      3893   Venous catheterization, not elsewhere classified   \n",
       "7      50-79       966  Enteral infusion of concentrated nutritional s...   \n",
       "8      50-79      9904                        Transfusion of packed cells   \n",
       "9        >80      3893   Venous catheterization, not elsewhere classified   \n",
       "10       >80      9904                        Transfusion of packed cells   \n",
       "11       >80      9604                     Insertion of endotracheal tube   \n",
       "\n",
       "    proc_count  rn  \n",
       "0            3   1  \n",
       "1            2   2  \n",
       "2            1   3  \n",
       "3            8   1  \n",
       "4            7   2  \n",
       "5            6   3  \n",
       "6           26   1  \n",
       "7           22   2  \n",
       "8           13   3  \n",
       "9           19   1  \n",
       "10          13   2  \n",
       "11           8   3  "
      ]
     },
     "execution_count": 251,
     "metadata": {},
     "output_type": "execute_result"
    }
   ],
   "source": [
    "top_3_df = conn.sql(\n",
    "    \"\"\"\n",
    "    SELECT *\n",
    "    FROM (\n",
    "        SELECT *,\n",
    "            ROW_NUMBER() OVER (PARTITION BY age_group ORDER BY proc_count DESC) AS rn\n",
    "        FROM procedures_with_names\n",
    "    )\n",
    "    WHERE rn <= 3\n",
    "    ORDER BY \n",
    "        CASE \n",
    "            WHEN age_group = '<=19' THEN 1\n",
    "            WHEN age_group = '20-49' THEN 2\n",
    "            WHEN age_group = '50-79' THEN 3\n",
    "            WHEN age_group = '>80' THEN 4\n",
    "            ELSE 5\n",
    "        END,\n",
    "        rn;\n",
    "    \"\"\"\n",
    ").df()\n",
    "\n",
    "top_3_df\n"
   ]
  },
  {
   "cell_type": "markdown",
   "id": "ca474793",
   "metadata": {},
   "source": [
    "(b) This series of queries first calculates the age of the patient at the time of admission by calculating the difference between the admission time and the date of birth. It then groups the patients into the required four categories by age. These two tables are joined on the `hadm_id` and `subject_id` to connect the procedure to the patient for each distinct hospital visit. The count of each procedure is calculated by age group. The next part displays the long title for the procedure instead of the procedure code to make it more readable. Finally, a row number is assigned to each procedure within age groups based on `proc_count` to find the top three procedures by grouping the rows by `age_group`."
   ]
  },
  {
   "cell_type": "code",
   "execution_count": 252,
   "id": "bdf1f825",
   "metadata": {},
   "outputs": [
    {
     "data": {
      "image/png": "[encoded data removed]",
      "text/plain": [
       "<Figure size 1200x600 with 1 Axes>"
      ]
     },
     "metadata": {},
     "output_type": "display_data"
    }
   ],
   "source": [
    "import matplotlib.pyplot as plt\n",
    "import pandas as pdplt\n",
    "import seaborn as sns\n",
    "\n",
    "age_order = ['<=19', '20-49', '50-79', '>80']\n",
    "\n",
    "plt.figure(figsize=(12, 6))\n",
    "sns.barplot(\n",
    "    data=top_3_df,\n",
    "    x='age_group',\n",
    "    y='proc_count',\n",
    "    hue='procedure_name',\n",
    "    order=age_order\n",
    ")\n",
    "\n",
    "plt.title('Top 3 Procedures by Age Group', fontsize=14)\n",
    "plt.xlabel('Age Group')\n",
    "plt.ylabel('Number of Procedures')\n",
    "plt.legend(title='Procedure Name', bbox_to_anchor=(1.05, 1), loc='upper left')\n",
    "plt.tight_layout()\n",
    "plt.show()\n"
   ]
  },
  {
   "cell_type": "markdown",
   "id": "f3cd6d58",
   "metadata": {},
   "source": [
    "(d) From the graph above, we can see that Venous catheterization is the most commonly performed procedure across all the age groups. For older age groups, above the age of 50, Transfusion of packed cells and Enteral infusion of concentrated nutritional substances appear consistently in the top three procedures. The number of procedures as well as the complexity of procedures performed increases significantly with age and is the highest in the 50-79 age group. This could also be due to the fact that there are lesser patients in the >80 category. For the age group below 19, the other two procedures with very low counts are Closure of skin and subcutaneous tissue of other and Repair of vertebral fracture indicating that there are very few patients below the age of 19 who underwent procedures and the ones who did had likely gotten into accidents. "
   ]
  },
  {
   "cell_type": "markdown",
   "id": "24a4a06c",
   "metadata": {},
   "source": [
    "#### Question 3"
   ]
  },
  {
   "cell_type": "code",
   "execution_count": null,
   "id": "f29c7756",
   "metadata": {},
   "outputs": [],
   "source": [
    "conn.sql(\"\"\"\n",
    "CREATE OR REPLACE TABLE icu_stays_duration AS\n",
    "SELECT\n",
    "    ie.subject_id,\n",
    "    ROUND(DATE_DIFF('hour', ie.intime, ie.outtime), 2) AS icu_hours\n",
    "FROM icustays ie\n",
    "WHERE intime IS NOT NULL AND outtime IS NOT NULL;\n",
    "\"\"\")"
   ]
  },
  {
   "cell_type": "code",
   "execution_count": null,
   "id": "f6f051ad",
   "metadata": {},
   "outputs": [],
   "source": [
    "conn.sql(\"\"\"\n",
    "CREATE OR REPLACE TABLE icu_stays_with_demo AS\n",
    "SELECT \n",
    "    ie.subject_id,\n",
    "    ie.hadm_id,\n",
    "    ROUND(DATE_DIFF('hour', ie.intime, ie.outtime), 2) AS icu_hours,\n",
    "    p.gender,\n",
    "    LOWER(TRIM(a.ethnicity)) AS ethnicity\n",
    "FROM icustays ie\n",
    "JOIN patients p ON ie.subject_id = p.subject_id\n",
    "JOIN admissions a ON ie.hadm_id = a.hadm_id\n",
    "WHERE ie.intime IS NOT NULL AND ie.outtime IS NOT NULL;\n",
    "\"\"\")"
   ]
  },
  {
   "cell_type": "code",
   "execution_count": null,
   "id": "821f855c",
   "metadata": {},
   "outputs": [],
   "source": [
    "conn.sql(\"\"\"\n",
    "CREATE OR REPLACE TABLE icu_cleaned_ethnicity AS\n",
    "SELECT\n",
    "    *,\n",
    "    CASE\n",
    "        WHEN ethnicity LIKE '%white%' THEN 'White'\n",
    "        WHEN ethnicity LIKE '%black%' THEN 'Black'\n",
    "        WHEN ethnicity LIKE '%hispanic%' THEN 'Hispanic'\n",
    "        WHEN ethnicity LIKE '%asian%' THEN 'Asian'\n",
    "        ELSE 'Other/Unknown'\n",
    "    END AS ethnicity_group\n",
    "FROM icu_stays_with_demo;\n",
    "\"\"\")"
   ]
  },
  {
   "cell_type": "code",
   "execution_count": 226,
   "id": "7bc3e0c4",
   "metadata": {},
   "outputs": [
    {
     "data": {
      "text/plain": [
       "┌─────────┬───────────┬───────────┬──────────────┐\n",
       "│ gender  │ num_stays │ avg_hours │ median_hours │\n",
       "│ varchar │   int64   │  double   │    double    │\n",
       "├─────────┼───────────┼───────────┼──────────────┤\n",
       "│ F       │        63 │    132.98 │         58.0 │\n",
       "│ M       │        73 │     84.32 │         46.0 │\n",
       "└─────────┴───────────┴───────────┴──────────────┘"
      ]
     },
     "execution_count": 226,
     "metadata": {},
     "output_type": "execute_result"
    }
   ],
   "source": [
    "conn.sql(\"\"\"\n",
    "SELECT\n",
    "    gender,\n",
    "    COUNT(*) AS num_stays,\n",
    "    ROUND(AVG(icu_hours), 2) AS avg_hours,\n",
    "    ROUND(MEDIAN(icu_hours), 2) AS median_hours\n",
    "FROM icu_cleaned_ethnicity\n",
    "GROUP BY gender;\n",
    "\"\"\")"
   ]
  },
  {
   "cell_type": "code",
   "execution_count": 227,
   "id": "42144ab4",
   "metadata": {},
   "outputs": [
    {
     "data": {
      "text/plain": [
       "┌─────────────────┬───────────┬───────────┬──────────────┐\n",
       "│ ethnicity_group │ num_stays │ avg_hours │ median_hours │\n",
       "│     varchar     │   int64   │  double   │    double    │\n",
       "├─────────────────┼───────────┼───────────┼──────────────┤\n",
       "│ Other/Unknown   │        17 │    131.24 │         64.0 │\n",
       "│ Asian           │         2 │      93.0 │         93.0 │\n",
       "│ Black           │         7 │    184.29 │         95.0 │\n",
       "│ White           │        92 │     99.11 │         47.5 │\n",
       "│ Hispanic        │        18 │     94.89 │         63.5 │\n",
       "└─────────────────┴───────────┴───────────┴──────────────┘"
      ]
     },
     "execution_count": 227,
     "metadata": {},
     "output_type": "execute_result"
    }
   ],
   "source": [
    "conn.sql(\"\"\"\n",
    "SELECT\n",
    "    ethnicity_group,\n",
    "    COUNT(*) AS num_stays,\n",
    "    ROUND(AVG(icu_hours), 2) AS avg_hours,\n",
    "    ROUND(MEDIAN(icu_hours), 2) AS median_hours\n",
    "FROM icu_cleaned_ethnicity\n",
    "GROUP BY ethnicity_group;\n",
    "\"\"\")"
   ]
  },
  {
   "cell_type": "markdown",
   "id": "befd35ed",
   "metadata": {},
   "source": [
    "(b) This query first calculates the duration of the ICU stay for each patient, in hours. It uses the `DATE_DIFF` function to subtract the intime from the outtime to calculate the number of hours a patient stays in the ICU. To analyze if there is a difference in gender and ethnicity, the duration table is joined with `patients` and `admissions` tables and cleaned by removing leading and trailing white spaces. Finally, the data is grouped by gender and ethnicity and the average ICU stay for each gender and each ethnicity is calculated. I calculated both the average and the median because the median is a better indicator if outliers are present. If some patients have really long stays, the mean can get skewed."
   ]
  },
  {
   "cell_type": "markdown",
   "id": "3a17872a",
   "metadata": {},
   "source": [
    "(d) We can see from the table above that females have a higher average ICU stay duration compared to males. Females spend around 132.98 hours on average with the median being 58 hours, while males spend around 84.32 hours on average with the median being 46 hours. The average and the median is higher for females.\n",
    "As for the ethnicity, White patients had the highest number of ICU stays by far but had the lowest average ICU stay duration of 99 hours. Black patients had the highest average ICU stay duration of 184 hours with a suprisingly high median of 95 hours, but had fewer ICU stays compared to White patients and other ethnicities. Asians had the least number of ICU stays with an average length of 93 hours. The Hispanic patients had a similar average length of 94 hours but a median of 63.5 hours. A significant number of ICU stays were ambiguous ethnicity patients but they had an average ICU stay length of 132 hours with a median of 64 hours.  "
   ]
  },
  {
   "cell_type": "markdown",
   "id": "da7b7441",
   "metadata": {},
   "source": [
    "### Part II"
   ]
  },
  {
   "cell_type": "code",
   "execution_count": 228,
   "id": "516453de",
   "metadata": {},
   "outputs": [
    {
     "name": "stdout",
     "output_type": "stream",
     "text": [
      "Requirement already satisfied: cassandra-sigv4 in c:\\users\\siddh\\appdata\\local\\programs\\python\\python311\\lib\\site-packages (4.0.2)Note: you may need to restart the kernel to use updated packages.\n",
      "\n",
      "Requirement already satisfied: cassandra-driver in c:\\users\\siddh\\appdata\\local\\programs\\python\\python311\\lib\\site-packages (from cassandra-sigv4) (3.29.2)\n",
      "Requirement already satisfied: boto3 in c:\\users\\siddh\\appdata\\local\\programs\\python\\python311\\lib\\site-packages (from cassandra-sigv4) (1.38.5)\n",
      "Requirement already satisfied: six in c:\\users\\siddh\\appdata\\roaming\\python\\python311\\site-packages (from cassandra-sigv4) (1.16.0)\n",
      "Requirement already satisfied: botocore<1.39.0,>=1.38.5 in c:\\users\\siddh\\appdata\\local\\programs\\python\\python311\\lib\\site-packages (from boto3->cassandra-sigv4) (1.38.5)\n",
      "Requirement already satisfied: jmespath<2.0.0,>=0.7.1 in c:\\users\\siddh\\appdata\\local\\programs\\python\\python311\\lib\\site-packages (from boto3->cassandra-sigv4) (1.0.1)\n",
      "Requirement already satisfied: s3transfer<0.13.0,>=0.12.0 in c:\\users\\siddh\\appdata\\local\\programs\\python\\python311\\lib\\site-packages (from boto3->cassandra-sigv4) (0.12.0)\n",
      "Requirement already satisfied: geomet<0.3,>=0.1 in c:\\users\\siddh\\appdata\\local\\programs\\python\\python311\\lib\\site-packages (from cassandra-driver->cassandra-sigv4) (0.2.1.post1)\n",
      "Requirement already satisfied: python-dateutil<3.0.0,>=2.1 in c:\\users\\siddh\\appdata\\roaming\\python\\python311\\site-packages (from botocore<1.39.0,>=1.38.5->boto3->cassandra-sigv4) (2.8.2)\n",
      "Requirement already satisfied: urllib3!=2.2.0,<3,>=1.25.4 in c:\\users\\siddh\\appdata\\roaming\\python\\python311\\site-packages (from botocore<1.39.0,>=1.38.5->boto3->cassandra-sigv4) (2.4.0)\n",
      "Requirement already satisfied: click in c:\\users\\siddh\\appdata\\local\\programs\\python\\python311\\lib\\site-packages (from geomet<0.3,>=0.1->cassandra-driver->cassandra-sigv4) (8.1.8)\n",
      "Requirement already satisfied: colorama in c:\\users\\siddh\\appdata\\roaming\\python\\python311\\site-packages (from click->geomet<0.3,>=0.1->cassandra-driver->cassandra-sigv4) (0.4.6)\n"
     ]
    },
    {
     "name": "stderr",
     "output_type": "stream",
     "text": [
      "\n",
      "[notice] A new release of pip is available: 23.1.2 -> 25.1.1\n",
      "[notice] To update, run: python.exe -m pip install --upgrade pip\n"
     ]
    }
   ],
   "source": [
    "%pip install cassandra-sigv4"
   ]
  },
  {
   "cell_type": "code",
   "execution_count": 229,
   "id": "5e90e5ce",
   "metadata": {},
   "outputs": [
    {
     "name": "stderr",
     "output_type": "stream",
     "text": [
      "  % Total    % Received % Xferd  Average Speed   Time    Time     Time  Current\n",
      "                                 Dload  Upload   Total   Spent    Left  Speed\n",
      "\n",
      "  0     0    0     0    0     0      0      0 --:--:-- --:--:-- --:--:--     0\n",
      "100  1468  100  1468    0     0   6760      0 --:--:-- --:--:-- --:--:--  6796\n"
     ]
    }
   ],
   "source": [
    "!curl https://certs.secureserver.net/repository/sf-class2-root.crt -O"
   ]
  },
  {
   "cell_type": "code",
   "execution_count": null,
   "id": "dc0935e4",
   "metadata": {},
   "outputs": [
    {
     "name": "stderr",
     "output_type": "stream",
     "text": [
      "C:\\Users\\siddh\\AppData\\Local\\Temp\\ipykernel_9536\\2585281160.py:10: DeprecationWarning: ssl.PROTOCOL_TLSv1_2 is deprecated\n",
      "  ssl_context = SSLContext(PROTOCOL_TLSv1_2)\n"
     ]
    }
   ],
   "source": [
    "from cassandra.cluster import Cluster\n",
    "from cassandra import ConsistencyLevel\n",
    "from cassandra.cluster import ExecutionProfile, EXEC_PROFILE_DEFAULT\n",
    "\n",
    "from ssl import SSLContext, PROTOCOL_TLSv1_2, CERT_REQUIRED\n",
    "from cassandra_sigv4.auth import SigV4AuthProvider\n",
    "import boto3\n",
    "\n",
    "# ssl setup\n",
    "ssl_context = SSLContext(PROTOCOL_TLSv1_2)\n",
    "ssl_context.load_verify_locations('sf-class2-root.crt')\n",
    "ssl_context.verify_mode = CERT_REQUIRED\n",
    "\n",
    "# boto3 session setup\n",
    "boto_session = boto3.Session(region_name=\"us-east-2\")  # this AWS credentials is specific to `us-east-2` region"
   ]
  },
  {
   "cell_type": "code",
   "execution_count": 231,
   "id": "f9fa4c53",
   "metadata": {},
   "outputs": [],
   "source": [
    "auth_provider = SigV4AuthProvider(boto_session)"
   ]
  },
  {
   "cell_type": "code",
   "execution_count": null,
   "id": "f44a5b41",
   "metadata": {},
   "outputs": [],
   "source": [
    "#cluster setup \n",
    "ep = ExecutionProfile(consistency_level=ConsistencyLevel.LOCAL_QUORUM)\n",
    "\n",
    "cluster = Cluster(['cassandra.us-east-2.amazonaws.com'], \n",
    "                  ssl_context=ssl_context, \n",
    "                  auth_provider=auth_provider,\n",
    "                  execution_profiles={EXEC_PROFILE_DEFAULT: ep}, \n",
    "                  port=9142)  # TLS only communicates on port 9142"
   ]
  },
  {
   "cell_type": "code",
   "execution_count": null,
   "id": "7218c475",
   "metadata": {},
   "outputs": [],
   "source": [
    "session = cluster.connect()"
   ]
  },
  {
   "cell_type": "code",
   "execution_count": null,
   "id": "8fc49e02",
   "metadata": {},
   "outputs": [],
   "source": [
    "session.execute(\"SELECT keyspace_name FROM system_schema.keyspaces;\")\n",
    "session.set_keyspace('mimic')"
   ]
  },
  {
   "cell_type": "code",
   "execution_count": 236,
   "id": "873612f5",
   "metadata": {},
   "outputs": [
    {
     "data": {
      "text/plain": [
       "<cassandra.cluster.ResultSet at 0x2750af16090>"
      ]
     },
     "execution_count": 236,
     "metadata": {},
     "output_type": "execute_result"
    }
   ],
   "source": [
    "## creating the table\n",
    "\n",
    "session.execute(\"\"\"\n",
    "    CREATE TABLE IF NOT EXISTS drug_amount_by_ethnicity (\n",
    "        ethnicity_group TEXT,\n",
    "        drug TEXT,\n",
    "        total_amount DOUBLE,\n",
    "        PRIMARY KEY (ethnicity_group, drug)\n",
    "    );\n",
    "\"\"\")"
   ]
  },
  {
   "cell_type": "code",
   "execution_count": null,
   "id": "349b561b",
   "metadata": {},
   "outputs": [],
   "source": [
    "## uploading the data\n",
    "\n",
    "for _, row in amount_by_ethnicity_df.iterrows():\n",
    "    session.execute(\"\"\"\n",
    "        INSERT INTO drug_amount_by_ethnicity (ethnicity_group, drug, total_amount)\n",
    "        VALUES (%s, %s, %s)\n",
    "    \"\"\", (row['ethnicity'], row['drug'], float(row['total_amount'])))"
   ]
  },
  {
   "cell_type": "code",
   "execution_count": null,
   "id": "02ca6e26",
   "metadata": {},
   "outputs": [],
   "source": [
    "rows = session.execute(\"SELECT * FROM drug_amount_by_ethnicity;\")\n",
    "df_keyspace = pd.DataFrame(rows)"
   ]
  },
  {
   "cell_type": "markdown",
   "id": "c18a04fd",
   "metadata": {},
   "source": [
    "(c) I did not use Cassandra for aggregation but used Pandas instead because I wanted to use functions such as limit and groupby that are only supported by pandas and found it simpler to use that."
   ]
  },
  {
   "cell_type": "code",
   "execution_count": 253,
   "id": "4a5978b1",
   "metadata": {},
   "outputs": [
    {
     "data": {
      "text/html": [
       "<div>\n",
       "<style scoped>\n",
       "    .dataframe tbody tr th:only-of-type {\n",
       "        vertical-align: middle;\n",
       "    }\n",
       "\n",
       "    .dataframe tbody tr th {\n",
       "        vertical-align: top;\n",
       "    }\n",
       "\n",
       "    .dataframe thead th {\n",
       "        text-align: right;\n",
       "    }\n",
       "</style>\n",
       "<table border=\"1\" class=\"dataframe\">\n",
       "  <thead>\n",
       "    <tr style=\"text-align: right;\">\n",
       "      <th></th>\n",
       "      <th>ethnicity_group</th>\n",
       "      <th>drug</th>\n",
       "      <th>total_amount</th>\n",
       "    </tr>\n",
       "  </thead>\n",
       "  <tbody>\n",
       "    <tr>\n",
       "      <th>5</th>\n",
       "      <td>AMERICAN INDIAN/ALASKA NATIVE FEDERALLY RECOGN...</td>\n",
       "      <td>5% Dextrose</td>\n",
       "      <td>16900.0</td>\n",
       "    </tr>\n",
       "    <tr>\n",
       "      <th>3</th>\n",
       "      <td>ASIAN</td>\n",
       "      <td>Heparin</td>\n",
       "      <td>15000.0</td>\n",
       "    </tr>\n",
       "    <tr>\n",
       "      <th>1</th>\n",
       "      <td>BLACK/AFRICAN AMERICAN</td>\n",
       "      <td>Heparin Sodium</td>\n",
       "      <td>150000.0</td>\n",
       "    </tr>\n",
       "    <tr>\n",
       "      <th>6</th>\n",
       "      <td>HISPANIC OR LATINO</td>\n",
       "      <td>5% Dextrose</td>\n",
       "      <td>19950.0</td>\n",
       "    </tr>\n",
       "    <tr>\n",
       "      <th>4</th>\n",
       "      <td>HISPANIC/LATINO - PUERTO RICAN</td>\n",
       "      <td>0.9% Sodium Chloride</td>\n",
       "      <td>43663.0</td>\n",
       "    </tr>\n",
       "    <tr>\n",
       "      <th>0</th>\n",
       "      <td>Other/Unknown</td>\n",
       "      <td>Epoetin Alfa</td>\n",
       "      <td>40000.0</td>\n",
       "    </tr>\n",
       "    <tr>\n",
       "      <th>2</th>\n",
       "      <td>WHITE</td>\n",
       "      <td>Heparin</td>\n",
       "      <td>427700.0</td>\n",
       "    </tr>\n",
       "  </tbody>\n",
       "</table>\n",
       "</div>"
      ],
      "text/plain": [
       "                                     ethnicity_group                  drug  \\\n",
       "5  AMERICAN INDIAN/ALASKA NATIVE FEDERALLY RECOGN...           5% Dextrose   \n",
       "3                                              ASIAN               Heparin   \n",
       "1                             BLACK/AFRICAN AMERICAN        Heparin Sodium   \n",
       "6                                 HISPANIC OR LATINO           5% Dextrose   \n",
       "4                     HISPANIC/LATINO - PUERTO RICAN  0.9% Sodium Chloride   \n",
       "0                                      Other/Unknown          Epoetin Alfa   \n",
       "2                                              WHITE               Heparin   \n",
       "\n",
       "   total_amount  \n",
       "5       16900.0  \n",
       "3       15000.0  \n",
       "1      150000.0  \n",
       "6       19950.0  \n",
       "4       43663.0  \n",
       "0       40000.0  \n",
       "2      427700.0  "
      ]
     },
     "execution_count": 253,
     "metadata": {},
     "output_type": "execute_result"
    }
   ],
   "source": [
    "## post extraction analysis using pandas\n",
    "\n",
    "df_top_drug = (\n",
    "    df_keyspace\n",
    "    .sort_values(['ethnicity_group', 'total_amount'], ascending=[True, False])\n",
    "    .groupby('ethnicity_group')\n",
    "    .head(1)\n",
    ")\n",
    "df_top_drug"
   ]
  },
  {
   "cell_type": "markdown",
   "id": "bf7188fc",
   "metadata": {},
   "source": [
    "(d) The data table printed above proves that the extraction produces the expected results."
   ]
  },
  {
   "cell_type": "code",
   "execution_count": 240,
   "id": "c8c0c59d",
   "metadata": {},
   "outputs": [
    {
     "data": {
      "text/plain": [
       "<cassandra.cluster.ResultSet at 0x2750de8c3d0>"
      ]
     },
     "execution_count": 240,
     "metadata": {},
     "output_type": "execute_result"
    }
   ],
   "source": [
    "## creating the table\n",
    "\n",
    "session.execute(\"\"\"\n",
    "    CREATE TABLE IF NOT EXISTS procedures_by_age_group (\n",
    "        age_group TEXT,\n",
    "        icd9_code TEXT,\n",
    "        procedure_name TEXT,\n",
    "        proc_count INT,\n",
    "        PRIMARY KEY (age_group, icd9_code)\n",
    "    );\n",
    "\"\"\")"
   ]
  },
  {
   "cell_type": "code",
   "execution_count": null,
   "id": "1ffedb41",
   "metadata": {},
   "outputs": [],
   "source": [
    "## uploading the data\n",
    "\n",
    "for _, row in df_top_3.iterrows():\n",
    "    session.execute(\"\"\"\n",
    "        INSERT INTO procedures_by_age_group (age_group, icd9_code, procedure_name, proc_count)\n",
    "        VALUES (%s, %s, %s, %s)\n",
    "    \"\"\", (\n",
    "        row['age_group'],\n",
    "        row['icd9_code'],\n",
    "        row['procedure_name'],\n",
    "        int(row['proc_count'])\n",
    "    ))\n"
   ]
  },
  {
   "cell_type": "code",
   "execution_count": null,
   "id": "c949763b",
   "metadata": {},
   "outputs": [],
   "source": [
    "rows = session.execute(\"SELECT * FROM procedures_by_age_group;\")\n",
    "df_cassandra = pd.DataFrame(rows)"
   ]
  },
  {
   "cell_type": "markdown",
   "id": "9f6bae26",
   "metadata": {},
   "source": [
    "(c) For this question as well, pandas was used to sort and group the data and perform aggregation instead of cassandra because I wanted to use pandas specific functions."
   ]
  },
  {
   "cell_type": "code",
   "execution_count": null,
   "id": "3dc7c555",
   "metadata": {},
   "outputs": [],
   "source": [
    "## post extraction analysis using pandas\n",
    "\n",
    "df_top3 = (\n",
    "    df_cassandra\n",
    "    .sort_values(['age_group', 'proc_count'], ascending=[True, False])\n",
    "    .groupby('age_group')\n",
    "    .head(3)\n",
    ")"
   ]
  },
  {
   "cell_type": "code",
   "execution_count": 244,
   "id": "9cb7d85e",
   "metadata": {},
   "outputs": [
    {
     "name": "stdout",
     "output_type": "stream",
     "text": [
      "   age_group icd9_code  proc_count  \\\n",
      "0      20-49      3893           8   \n",
      "2      20-49       966           7   \n",
      "1      20-49      5491           6   \n",
      "10     50-79      3893          26   \n",
      "11     50-79       966          22   \n",
      "12     50-79      9904          13   \n",
      "8       <=19      3893           3   \n",
      "9       <=19      8659           2   \n",
      "7       <=19      0118           1   \n",
      "4        >80      3893          19   \n",
      "6        >80      9904          13   \n",
      "5        >80      9604           8   \n",
      "\n",
      "                                       procedure_name  \n",
      "0    Venous catheterization, not elsewhere classified  \n",
      "2   Enteral infusion of concentrated nutritional s...  \n",
      "1                     Percutaneous abdominal drainage  \n",
      "10   Venous catheterization, not elsewhere classified  \n",
      "11  Enteral infusion of concentrated nutritional s...  \n",
      "12                        Transfusion of packed cells  \n",
      "8    Venous catheterization, not elsewhere classified  \n",
      "9   Closure of skin and subcutaneous tissue of oth...  \n",
      "7   Other diagnostic procedures on brain and cereb...  \n",
      "4    Venous catheterization, not elsewhere classified  \n",
      "6                         Transfusion of packed cells  \n",
      "5                      Insertion of endotracheal tube  \n"
     ]
    }
   ],
   "source": [
    "print(df_top3)"
   ]
  },
  {
   "cell_type": "markdown",
   "id": "84dc8cca",
   "metadata": {},
   "source": [
    "(d) As can be seen by the table above, the results are as expected and match the duckDB results."
   ]
  },
  {
   "cell_type": "code",
   "execution_count": 245,
   "id": "1bd65db1",
   "metadata": {},
   "outputs": [
    {
     "data": {
      "text/plain": [
       "<cassandra.cluster.ResultSet at 0x2750c9363d0>"
      ]
     },
     "execution_count": 245,
     "metadata": {},
     "output_type": "execute_result"
    }
   ],
   "source": [
    "## creating the table\n",
    "\n",
    "session.execute(\"\"\"\n",
    "    CREATE TABLE IF NOT EXISTS icu_stay_summary_v2 (\n",
    "        subject_id TEXT,\n",
    "        hadm_id TEXT,\n",
    "        icu_hours DOUBLE,\n",
    "        gender TEXT,\n",
    "        ethnicity_group TEXT,\n",
    "        PRIMARY KEY ((subject_id), hadm_id)\n",
    "    );\n",
    "\"\"\")"
   ]
  },
  {
   "cell_type": "code",
   "execution_count": null,
   "id": "70d5e50f",
   "metadata": {},
   "outputs": [],
   "source": [
    "df_icu_summary = conn.sql(\"\"\"\n",
    "    SELECT \n",
    "        subject_id,\n",
    "        hadm_id,\n",
    "        icu_hours,\n",
    "        gender,\n",
    "        ethnicity_group\n",
    "    FROM icu_cleaned_ethnicity;\n",
    "\"\"\").df()"
   ]
  },
  {
   "cell_type": "code",
   "execution_count": null,
   "id": "94a1ebd3",
   "metadata": {},
   "outputs": [],
   "source": [
    "## uplaoding the data\n",
    "\n",
    "for _, row in df_icu_summary.iterrows():\n",
    "    session.execute(\"\"\"\n",
    "        INSERT INTO icu_stay_summary_v2 (subject_id, hadm_id, icu_hours, gender, ethnicity_group)\n",
    "        VALUES (%s, %s, %s, %s, %s)\n",
    "    \"\"\", (\n",
    "        str(row['subject_id']),\n",
    "        str(row['hadm_id']),\n",
    "        float(row['icu_hours']),\n",
    "        row['gender'],\n",
    "        row['ethnicity_group']\n",
    "    ))"
   ]
  },
  {
   "cell_type": "code",
   "execution_count": 248,
   "id": "b63cac02",
   "metadata": {},
   "outputs": [],
   "source": [
    "rows = session.execute(\"SELECT * FROM icu_stay_summary_v2;\")\n",
    "df_icu_keyspace = pd.DataFrame(rows)"
   ]
  },
  {
   "cell_type": "code",
   "execution_count": null,
   "id": "037a2566",
   "metadata": {},
   "outputs": [],
   "source": [
    "## post extraction analysis using pandas\n",
    "\n",
    "gender_summary = (\n",
    "    df_icu_keyspace\n",
    "    .groupby('gender')['icu_hours']\n",
    "    .agg(num_stays='count', avg_hours='mean', median_hours='median')\n",
    "    .round(2)\n",
    "    .reset_index()\n",
    ")\n",
    "\n",
    "ethnicity_summary = (\n",
    "    df_icu_keyspace\n",
    "    .groupby('ethnicity_group')['icu_hours']\n",
    "    .agg(num_stays='count', avg_hours='mean', median_hours='median')\n",
    "    .round(2)\n",
    "    .reset_index()\n",
    ")"
   ]
  },
  {
   "cell_type": "markdown",
   "id": "5be508df",
   "metadata": {},
   "source": [
    "(c) I used pandas for the post extraction analysis because I found it easier to group and summarize data using the pandas mean and median functions - that isn't possible directly in cassandra."
   ]
  },
  {
   "cell_type": "code",
   "execution_count": 255,
   "id": "8b8e733c",
   "metadata": {},
   "outputs": [
    {
     "name": "stdout",
     "output_type": "stream",
     "text": [
      "  gender  num_stays  avg_hours  median_hours\n",
      "0      F         59     137.07          58.0\n",
      "1      M         70      86.80          46.5\n",
      "  ethnicity_group  num_stays  avg_hours  median_hours\n",
      "0           Asian          2      93.00          93.0\n",
      "1           Black          7     184.29          95.0\n",
      "2        Hispanic         17      95.12          62.0\n",
      "3   Other/Unknown         17     131.24          64.0\n",
      "4           White         86     102.78          48.0\n"
     ]
    }
   ],
   "source": [
    "print(gender_summary)\n",
    "print(ethnicity_summary)"
   ]
  },
  {
   "cell_type": "markdown",
   "id": "c3366d85",
   "metadata": {},
   "source": [
    "(d) The results for this question are for the most part as expected. However, we see that there is a slight difference in the average hours spent. These minor discrepancies could be due to rounding differences, precision for floating point numbers, and missing rows during uploading to Cassandra. Since these are very minor differences, I think they will not affect the overall interpretation of the results."
   ]
  }
 ],
 "metadata": {
  "kernelspec": {
   "display_name": "Python 3 (ipykernel)",
   "language": "python",
   "name": "python3"
  },
  "language_info": {
   "codemirror_mode": {
    "name": "ipython",
    "version": 3
   },
   "file_extension": ".py",
   "mimetype": "text/x-python",
   "name": "python",
   "nbconvert_exporter": "python",
   "pygments_lexer": "ipython3",
   "version": "3.11.12"
  }
 },
 "nbformat": 4,
 "nbformat_minor": 5
}
