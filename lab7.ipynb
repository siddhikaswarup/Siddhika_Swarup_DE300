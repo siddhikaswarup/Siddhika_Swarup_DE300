{
  "cells": [
    {
      "cell_type": "markdown",
      "id": "2c01d229-b690-4d43-9356-b3e03026e0d7",
      "metadata": {
        "id": "2c01d229-b690-4d43-9356-b3e03026e0d7"
      },
      "source": [
        "## 🔧 1. Installation"
      ]
    },
    {
      "cell_type": "markdown",
      "id": "9f6fc617-0580-40e4-a132-84a4aa81fba6",
      "metadata": {
        "id": "9f6fc617-0580-40e4-a132-84a4aa81fba6"
      },
      "source": [
        "You can install PySpark via pip:\n",
        "```\n",
        "pip install pyspark\n",
        "```\n",
        "To verify the installation, run the following command in Python:"
      ]
    },
    {
      "cell_type": "code",
      "execution_count": 32,
      "id": "0cbd6729",
      "metadata": {
        "colab": {
          "base_uri": "https://localhost:8080/"
        },
        "id": "0cbd6729",
        "outputId": "8fbbc301-29f8-4be7-9e4e-8686ad52b8a3"
      },
      "outputs": [
        {
          "output_type": "stream",
          "name": "stdout",
          "text": [
            "Requirement already satisfied: pyspark in /usr/local/lib/python3.11/dist-packages (3.5.1)\n",
            "Requirement already satisfied: py4j==0.10.9.7 in /usr/local/lib/python3.11/dist-packages (from pyspark) (0.10.9.7)\n"
          ]
        }
      ],
      "source": [
        "!pip install pyspark"
      ]
    },
    {
      "cell_type": "code",
      "execution_count": 33,
      "id": "4045cab8-f55b-4a00-8728-e54fef9c99d3",
      "metadata": {
        "colab": {
          "base_uri": "https://localhost:8080/"
        },
        "id": "4045cab8-f55b-4a00-8728-e54fef9c99d3",
        "outputId": "1f0dfd68-2e3e-4d43-d47c-85effa449fb1"
      },
      "outputs": [
        {
          "output_type": "stream",
          "name": "stdout",
          "text": [
            "3.5.1\n"
          ]
        }
      ],
      "source": [
        "import pyspark\n",
        "print(pyspark.__version__)"
      ]
    },
    {
      "cell_type": "markdown",
      "id": "873eef98-5769-466a-81f0-ce35a7eada6b",
      "metadata": {
        "id": "873eef98-5769-466a-81f0-ce35a7eada6b"
      },
      "source": [
        "Before intializing PySpark, please make sure your computer installed Java 8 or later, but Java 9+ can sometimes cause issues. To check your Java version, run:\n",
        "```{sh}\n",
        "java -version\n",
        "```\n",
        "You should see something like:\n",
        "```\n",
        "java version \"1.8.0_281\"\n",
        "```\n",
        "If Java is not installed, install it trough the link\n",
        "-  MacBook: [Install Java on MacBook](https://www.java.com/en/download/) (Check if your computer has Intel or Apple M CPU first)\n",
        "-  Windows: [Install Java on PC](https://www.java.com/download/ie_manual.jsp)"
      ]
    },
    {
      "cell_type": "markdown",
      "id": "6e4bb245-6e8a-4990-9472-ecfcf9ae9bbf",
      "metadata": {
        "id": "6e4bb245-6e8a-4990-9472-ecfcf9ae9bbf"
      },
      "source": [
        "## 🚀 2. Start a Spark Session"
      ]
    },
    {
      "cell_type": "code",
      "execution_count": 34,
      "id": "7acef92e-5093-4859-9ca5-c91af793a9bc",
      "metadata": {
        "id": "7acef92e-5093-4859-9ca5-c91af793a9bc"
      },
      "outputs": [],
      "source": [
        "from pyspark.sql import SparkSession\n",
        "\n",
        "spark = SparkSession.builder \\\n",
        "    .appName(\"PySpark_Tutorial\") \\\n",
        "    .master(\"local[*]\") \\\n",
        "    .getOrCreate()"
      ]
    },
    {
      "cell_type": "markdown",
      "id": "11fac4be-ec79-4e26-8a1a-9d8c80e64672",
      "metadata": {
        "id": "11fac4be-ec79-4e26-8a1a-9d8c80e64672"
      },
      "source": [
        "- `SparkSession.builder`: it starts building a new SparkSession configuration; you may treat it as a fluent API (a builder pattern) for customizing your Spark app.\n",
        "- `.appName(\"PySpark_Tutorial\")`: it sets the name of your Spark application\n",
        "- `.master(\"local[*]\")`: `\"local\"` tells Spark to run locally, not on a cluster; `\"*\"` tells Spark to use all available CPU cores on your machine.`\n",
        "- `.getOrCreate()`: Creates a new SparkSession or returns an existing one if it already exists."
      ]
    },
    {
      "cell_type": "markdown",
      "id": "b40ef85b-ad74-4d48-a7c6-6d4c0bb3a77f",
      "metadata": {
        "id": "b40ef85b-ad74-4d48-a7c6-6d4c0bb3a77f"
      },
      "source": [
        "## 📂 3. Load and Explore Data\n",
        "The data required for this example is saved at s3://de300spring2025/dinglin_xia/lab7_data/adult.csv.\n",
        "\n",
        "Assuming your file is named \"adult.csv\" and contains a column \"filtered\" (JSON array of words):\n",
        "We’ll walk through several important steps:\n",
        "\n",
        "1. Feature Engineering\n",
        "\n",
        "2. Bias Analysis on Marital Status\n",
        "\n",
        "3. Joining with Supplemental Gender Data\n",
        "\n",
        "4. Exporting Final Data"
      ]
    },
    {
      "cell_type": "code",
      "execution_count": 35,
      "id": "6bbe3712-567a-46be-84cc-66dccc795810",
      "metadata": {
        "id": "6bbe3712-567a-46be-84cc-66dccc795810"
      },
      "outputs": [],
      "source": [
        "from pyspark.sql import SparkSession\n",
        "from pyspark.sql.types import StructType, StructField, IntegerType, StringType, FloatType\n",
        "from pyspark.sql.dataframe import DataFrame\n",
        "from pyspark.sql.functions import col, when, isnan, isnull, count, avg, trim\n",
        "import os"
      ]
    },
    {
      "cell_type": "code",
      "execution_count": 36,
      "id": "a0feb1a8-a60d-4b3f-9c1c-4b9dcbf8c1eb",
      "metadata": {
        "id": "a0feb1a8-a60d-4b3f-9c1c-4b9dcbf8c1eb"
      },
      "outputs": [],
      "source": [
        "DATA_FOLDER = \"/content\"\n",
        "# source https://www.statista.com/statistics/242030/marital-status-of-the-us-population-by-sex/\n",
        "# the first value is male and the second is for female\n",
        "MARITAL_STATUS_BY_GENDER = [\n",
        "    [\"Never-married\", 47.35, 41.81],\n",
        "    [\"Married-AF-spouse\", 67.54, 68.33],\n",
        "    [\"Widowed\", 3.58, 11.61],\n",
        "    [\"Divorced\", 10.82, 15.09]\n",
        "]\n",
        "MARITAL_STATUS_BY_GENDER_COLUMNS = [\"marital_status_statistics\", \"male\", \"female\"]"
      ]
    },
    {
      "cell_type": "markdown",
      "id": "1f82fc5d-9e0a-41db-9089-b2fbbe5286d8",
      "metadata": {
        "id": "1f82fc5d-9e0a-41db-9089-b2fbbe5286d8"
      },
      "source": [
        "### 📁 spark.read\n",
        "- `schema(schema)`: Tells Spark to use your predefined schema.\n",
        "\n",
        "- `option(\"header\", \"false\")`: There’s no header row in the CSV file.\n",
        "\n",
        "- `option(\"inferSchema\", \"false\")`: You don’t want Spark to guess column types.\n",
        "\n",
        "- `csv(...)`: Loads the CSV files from the given folder (wildcard *.csv means all CSVs).\n",
        "\n",
        "### 🧵 Repartition\n",
        "Repartitions the DataFrame into 8 partitions, which improves parallel processing."
      ]
    },
    {
      "cell_type": "code",
      "execution_count": 37,
      "id": "001d819f-2cc6-4342-b7a8-ee3fe21565c6",
      "metadata": {
        "colab": {
          "base_uri": "https://localhost:8080/"
        },
        "id": "001d819f-2cc6-4342-b7a8-ee3fe21565c6",
        "outputId": "a9cbb250-3b05-4a2b-e4e8-e130c8c7f02c"
      },
      "outputs": [
        {
          "output_type": "stream",
          "name": "stdout",
          "text": [
            "/content/*.csv\n"
          ]
        }
      ],
      "source": [
        "def read_data(spark: SparkSession) -> DataFrame:\n",
        "    \"\"\"\n",
        "    read data based on the given schema; this is much faster than spark determining the schema\n",
        "    \"\"\"\n",
        "\n",
        "    # Define the schema for the dataset\n",
        "    # It tells Spark: 1. what column name to expect 2. what data type it should have 3. and whether it can contain null\n",
        "    # It's faster than letting Spark infer types.\n",
        "    schema = StructType([\n",
        "        StructField(\"age\", IntegerType(), True),\n",
        "        StructField(\"workclass\", StringType(), True),\n",
        "        StructField(\"fnlwgt\", FloatType(), True),\n",
        "        StructField(\"education\", StringType(), True),\n",
        "        StructField(\"education_num\", FloatType(), True),\n",
        "        StructField(\"marital_status\", StringType(), True),\n",
        "        StructField(\"occupation\", StringType(), True),\n",
        "        StructField(\"relationship\", StringType(), True),\n",
        "        StructField(\"race\", StringType(), True),\n",
        "        StructField(\"sex\", StringType(), True),\n",
        "        StructField(\"capital_gain\", FloatType(), True),\n",
        "        StructField(\"capital_loss\", FloatType(), True),\n",
        "        StructField(\"hours_per_week\", FloatType(), True),\n",
        "        StructField(\"native_country\", StringType(), True),\n",
        "        StructField(\"income\", StringType(), True)\n",
        "    ])\n",
        "\n",
        "    # Read the dataset\n",
        "    data = spark.read \\\n",
        "        .schema(schema) \\\n",
        "        .option(\"header\", \"false\") \\\n",
        "        .option(\"inferSchema\", \"false\") \\\n",
        "        .csv(os.path.join(DATA_FOLDER,\"*.csv\"))\n",
        "    print(\"going through\")\n",
        "\n",
        "    data = data.repartition(1)\n",
        "\n",
        "    # This loop finds all columns with FloatType and casts them to IntegerType\n",
        "    float_columns = [f.name for f in data.schema.fields if isinstance(f.dataType, FloatType)]\n",
        "    for v in float_columns:\n",
        "        data = data.withColumn(v, data[v].cast(IntegerType()))\n",
        "\n",
        "    # Get the names of all StringType columns\n",
        "    string_columns = [f.name for f in data.schema.fields if isinstance(f.dataType, StringType)]\n",
        "\n",
        "    # Remove leading and trailing spaces in all string columns\n",
        "    for column in string_columns:\n",
        "        data = data.withColumn(column, trim(data[column])) # Applies the trim() function to remove leading/trailing spaces, which is a common issue in raw CSVs.\n",
        "\n",
        "    # Show the first 5 rows of the dataset\n",
        "    data.show(5)\n",
        "\n",
        "    return data\n",
        "print(os.path.join(DATA_FOLDER,\"*.csv\"))\n"
      ]
    },
    {
      "cell_type": "markdown",
      "id": "5fd279c5-c761-4af5-83b2-11d6633920e8",
      "metadata": {
        "id": "5fd279c5-c761-4af5-83b2-11d6633920e8"
      },
      "source": [
        "🔧 Breakdown of the query to count missing value\n",
        "- `data.columns`: List of all column names.\n",
        "\n",
        "- `isnan(c)`: Checks if a value is NaN (only for numeric types).\n",
        "\n",
        "- `isnull(c)`: Checks if a value is null (works for any type).\n",
        "\n",
        "- `when(condition, value)`: Creates a conditional column.\n",
        "\n",
        "- `count(...)`: Counts how many times that condition is met.\n",
        "\n",
        "- `.alias(c)`: Names the result column after the original column."
      ]
    },
    {
      "cell_type": "code",
      "execution_count": 38,
      "id": "a00d1148-ba19-4e77-9e11-9d78b0af2124",
      "metadata": {
        "id": "a00d1148-ba19-4e77-9e11-9d78b0af2124"
      },
      "outputs": [],
      "source": [
        "def missing_values(data: DataFrame) -> DataFrame:\n",
        "    \"\"\"\n",
        "    count the number of samples with missing values for each row\n",
        "    remove such samples\n",
        "    \"\"\"\n",
        "    # Count Missing Values per Column\n",
        "    missing_values = data.select([count(when(isnan(c) | isnull(c), c)).alias(c) for c in data.columns])\n",
        "\n",
        "    # Show the missing values count per column\n",
        "    missing_values.show()\n",
        "\n",
        "    # Get the number of samples in the DataFrame\n",
        "    num_samples = data.count()\n",
        "\n",
        "    # Print the number of samples\n",
        "    print(\"Number of samples:\", num_samples)\n",
        "\n",
        "    data = data.dropna()\n",
        "\n",
        "    return data"
      ]
    },
    {
      "cell_type": "markdown",
      "id": "23e17741-06c7-47a6-b399-e7457604feda",
      "metadata": {
        "id": "23e17741-06c7-47a6-b399-e7457604feda"
      },
      "source": [
        "### 📌 Feature Engineering Function\n",
        "📖 Explanation:\n",
        "This function programmatically finds all integer features and creates new features by multiplying each pair. It helps capture interaction effects for models or exploratory analysis.\n",
        "\n",
        "- `withColumn()` creates a new column in the DataFrame."
      ]
    },
    {
      "cell_type": "code",
      "execution_count": 39,
      "id": "7c2cf776-3fd6-45a7-8420-b4a34f280c1a",
      "metadata": {
        "id": "7c2cf776-3fd6-45a7-8420-b4a34f280c1a"
      },
      "outputs": [],
      "source": [
        "def feature_engineering(data: DataFrame) -> DataFrame:\n",
        "    \"\"\"\n",
        "    Calculate the product of each pair of integer features\n",
        "    \"\"\"\n",
        "    # Identify all integer-type columns in the dataset\n",
        "    integer_columns = [f.name for f in data.schema.fields if isinstance(f.dataType, IntegerType)]\n",
        "\n",
        "    # For each pair of integer columns, compute a new column that is their product\n",
        "    for i, col1 in enumerate(integer_columns):\n",
        "        for col2 in integer_columns[i:]:  # Avoid duplicate pairs\n",
        "            product_col_name = f\"{col1}_x_{col2}\"\n",
        "            data = data.withColumn(product_col_name, col(col1) * col(col2))\n",
        "\n",
        "    # Preview first 5 rows to check new columns\n",
        "    data.show(5)\n",
        "\n",
        "    return data"
      ]
    },
    {
      "cell_type": "markdown",
      "id": "126bc286-d8a4-43c8-9622-f77f130de689",
      "metadata": {
        "id": "126bc286-d8a4-43c8-9622-f77f130de689"
      },
      "source": [
        "### 📌 Analyze Bias by Marital Status\n",
        "📖 Explanation:\n",
        "This function investigates if capital_gain varies significantly with marital_status. It also filters and inspects a specific subgroup — divorced individuals — to facilitate further analysis or visualization.\n",
        "Compute Average Capital Gain by Marital Status\n",
        "- `groupBy(\"marital_status\")`: Groups the dataset by marital status (e.g., \"Married\", \"Single\", \"Divorced\").\n",
        "\n",
        "- `agg(...)`: Performs an aggregation, in this case avg(\"capital_gain\").\n",
        "\n",
        "- `alias(...)`: Renames the resulting column to \"average_capital_gain\".\n",
        "\n"
      ]
    },
    {
      "cell_type": "code",
      "execution_count": 40,
      "id": "ba7fe919-a492-4ab1-b81a-8ed349da2922",
      "metadata": {
        "id": "ba7fe919-a492-4ab1-b81a-8ed349da2922"
      },
      "outputs": [],
      "source": [
        "def bias_marital_status(data: DataFrame):\n",
        "    \"\"\"\n",
        "    Analyze if there's a bias in capital gain by marital status\n",
        "    \"\"\"\n",
        "    # Group by marital status and compute average capital gain\n",
        "    average_capital_gain = data.groupBy(\"marital_status\").agg(avg(\"capital_gain\").alias(\"average_capital_gain\"))\n",
        "    average_capital_gain.show()\n",
        "\n",
        "    # Filter only rows with marital_status == \"Divorced\"\n",
        "    divorced_data = data.filter(data.marital_status == \"Divorced\")\n",
        "    divorced_data.show(5)"
      ]
    },
    {
      "cell_type": "markdown",
      "id": "1903cc2d-0257-47f1-98be-30d4a7efd81c",
      "metadata": {
        "id": "1903cc2d-0257-47f1-98be-30d4a7efd81c"
      },
      "source": [
        "### 📌 Join with External Gender Statistics\n",
        "📖 Explanation:\n",
        "This function enriches the dataset by joining it with an external dataset containing U.S. gender distribution by marital status. The `outer` join ensures we keep unmatched records for completeness."
      ]
    },
    {
      "cell_type": "code",
      "execution_count": 41,
      "id": "74d546c6-97a3-48da-99ce-4fa7bab4e468",
      "metadata": {
        "id": "74d546c6-97a3-48da-99ce-4fa7bab4e468"
      },
      "outputs": [],
      "source": [
        "def join_with_US_gender(spark: SparkSession, data: DataFrame):\n",
        "    \"\"\"\n",
        "    Join with external data about marital status statistics by gender\n",
        "    \"\"\"\n",
        "    # Example data (assumed predefined in MARITAL_STATUS_BY_GENDER & *_COLUMNS)\n",
        "    us_df = spark.createDataFrame(MARITAL_STATUS_BY_GENDER, MARITAL_STATUS_BY_GENDER_COLUMNS)\n",
        "\n",
        "    # Outer join on marital_status\n",
        "    return data.join(us_df, data.marital_status == us_df.marital_status_statistics, 'outer')"
      ]
    },
    {
      "cell_type": "markdown",
      "id": "2822d331-8057-430a-88e7-0e8a0fbddd9b",
      "metadata": {
        "id": "2822d331-8057-430a-88e7-0e8a0fbddd9b"
      },
      "source": [
        "### ✅ Main Pipeline\n",
        "📖 Explanation:\n",
        "This function ties all preprocessing steps together and writes the result to a CSV file. You can run it with main() in a PySpark environment."
      ]
    },
    {
      "cell_type": "code",
      "execution_count": 42,
      "id": "7cb5e52c-cece-495e-9644-87a2de0a8b5d",
      "metadata": {
        "id": "7cb5e52c-cece-495e-9644-87a2de0a8b5d"
      },
      "outputs": [],
      "source": [
        "def main():\n",
        "    spark = SparkSession.builder.appName(\"Read Adult Dataset\").getOrCreate()\n",
        "\n",
        "    data = read_data(spark)               # Load dataset\n",
        "    data = missing_values(data)           # Handle missing values (assumed implemented)\n",
        "    data = feature_engineering(data)      # Add interaction features\n",
        "    bias_marital_status(data)             # Analyze capital gain by marital status\n",
        "    data = join_with_US_gender(spark, data)  # Enrich with gender statistics\n",
        "\n",
        "    data.show(5)                          # Preview final data\n",
        "    data.write.format('csv').option('header', 'true').mode('overwrite').save('saved.csv')  # Save"
      ]
    },
    {
      "cell_type": "code",
      "execution_count": 43,
      "id": "aa374bbe-e287-4e36-b9ee-758deeec36a6",
      "metadata": {
        "colab": {
          "base_uri": "https://localhost:8080/"
        },
        "id": "aa374bbe-e287-4e36-b9ee-758deeec36a6",
        "outputId": "c159e37b-3b31-4d84-b771-2b5fe7a5f224"
      },
      "outputs": [
        {
          "output_type": "stream",
          "name": "stdout",
          "text": [
            "going through\n",
            "+----+---------+------+------------+-------------+--------------+-----------------+-------------+-----+------+------------+------------+--------------+--------------+------+\n",
            "| age|workclass|fnlwgt|   education|education_num|marital_status|       occupation| relationship| race|   sex|capital_gain|capital_loss|hours_per_week|native_country|income|\n",
            "+----+---------+------+------------+-------------+--------------+-----------------+-------------+-----+------+------------+------------+--------------+--------------+------+\n",
            "|NULL|workclass|  NULL|   education|         NULL|marital.status|       occupation| relationship| race|   sex|        NULL|        NULL|          NULL|native.country|income|\n",
            "|  90|        ?| 77053|     HS-grad|            9|       Widowed|                ?|Not-in-family|White|Female|           0|        4356|            40| United-States| <=50K|\n",
            "|  82|  Private|132870|     HS-grad|            9|       Widowed|  Exec-managerial|Not-in-family|White|Female|           0|        4356|            18| United-States| <=50K|\n",
            "|  66|        ?|186061|Some-college|           10|       Widowed|                ?|    Unmarried|Black|Female|           0|        4356|            40| United-States| <=50K|\n",
            "|  54|  Private|140359|     7th-8th|            4|      Divorced|Machine-op-inspct|    Unmarried|White|Female|           0|        3900|            40| United-States| <=50K|\n",
            "+----+---------+------+------------+-------------+--------------+-----------------+-------------+-----+------+------------+------------+--------------+--------------+------+\n",
            "only showing top 5 rows\n",
            "\n",
            "+---+---------+------+---------+-------------+--------------+----------+------------+----+---+------------+------------+--------------+--------------+------+\n",
            "|age|workclass|fnlwgt|education|education_num|marital_status|occupation|relationship|race|sex|capital_gain|capital_loss|hours_per_week|native_country|income|\n",
            "+---+---------+------+---------+-------------+--------------+----------+------------+----+---+------------+------------+--------------+--------------+------+\n",
            "|  1|        0|     1|        0|            1|             0|         0|           0|   0|  0|           1|           1|             1|             0|     0|\n",
            "+---+---------+------+---------+-------------+--------------+----------+------------+----+---+------------+------------+--------------+--------------+------+\n",
            "\n",
            "Number of samples: 32562\n",
            "+---+---------+------+------------+-------------+--------------+-----------------+-------------+-----+------+------------+------------+--------------+--------------+------+---------+------------+-------------------+------------------+------------------+--------------------+---------------+----------------------+---------------------+---------------------+-----------------------+-----------------------------+----------------------------+----------------------------+------------------------------+---------------------------+---------------------------+-----------------------------+---------------------------+-----------------------------+-------------------------------+\n",
            "|age|workclass|fnlwgt|   education|education_num|marital_status|       occupation| relationship| race|   sex|capital_gain|capital_loss|hours_per_week|native_country|income|age_x_age|age_x_fnlwgt|age_x_education_num|age_x_capital_gain|age_x_capital_loss|age_x_hours_per_week|fnlwgt_x_fnlwgt|fnlwgt_x_education_num|fnlwgt_x_capital_gain|fnlwgt_x_capital_loss|fnlwgt_x_hours_per_week|education_num_x_education_num|education_num_x_capital_gain|education_num_x_capital_loss|education_num_x_hours_per_week|capital_gain_x_capital_gain|capital_gain_x_capital_loss|capital_gain_x_hours_per_week|capital_loss_x_capital_loss|capital_loss_x_hours_per_week|hours_per_week_x_hours_per_week|\n",
            "+---+---------+------+------------+-------------+--------------+-----------------+-------------+-----+------+------------+------------+--------------+--------------+------+---------+------------+-------------------+------------------+------------------+--------------------+---------------+----------------------+---------------------+---------------------+-----------------------+-----------------------------+----------------------------+----------------------------+------------------------------+---------------------------+---------------------------+-----------------------------+---------------------------+-----------------------------+-------------------------------+\n",
            "| 90|        ?| 77053|     HS-grad|            9|       Widowed|                ?|Not-in-family|White|Female|           0|        4356|            40| United-States| <=50K|     8100|     6934770|                810|                 0|            392040|                3600|     1642197513|                693477|                    0|            335642868|                3082120|                           81|                           0|                       39204|                           360|                          0|                          0|                            0|                   18974736|                       174240|                           1600|\n",
            "| 82|  Private|132870|     HS-grad|            9|       Widowed|  Exec-managerial|Not-in-family|White|Female|           0|        4356|            18| United-States| <=50K|     6724|    10895340|                738|                 0|            357192|                1476|      474567716|               1195830|                    0|            578781720|                2391660|                           81|                           0|                       39204|                           162|                          0|                          0|                            0|                   18974736|                        78408|                            324|\n",
            "| 66|        ?|186061|Some-college|           10|       Widowed|                ?|    Unmarried|Black|Female|           0|        4356|            40| United-States| <=50K|     4356|    12280026|                660|                 0|            287496|                2640|      258957353|               1860610|                    0|            810481716|                7442440|                          100|                           0|                       43560|                           400|                          0|                          0|                            0|                   18974736|                       174240|                           1600|\n",
            "| 54|  Private|140359|     7th-8th|            4|      Divorced|Machine-op-inspct|    Unmarried|White|Female|           0|        3900|            40| United-States| <=50K|     2916|     7579386|                216|                 0|            210600|                2160|    -1774187599|                561436|                    0|            547400100|                5614360|                           16|                           0|                       15600|                           160|                          0|                          0|                            0|                   15210000|                       156000|                           1600|\n",
            "| 41|  Private|264663|Some-college|           10|     Separated|   Prof-specialty|    Own-child|White|Female|           0|        3900|            40| United-States| <=50K|     1681|    10851183|                410|                 0|            159900|                1640|     1327026833|               2646630|                    0|           1032185700|               10586520|                          100|                           0|                       39000|                           400|                          0|                          0|                            0|                   15210000|                       156000|                           1600|\n",
            "+---+---------+------+------------+-------------+--------------+-----------------+-------------+-----+------+------------+------------+--------------+--------------+------+---------+------------+-------------------+------------------+------------------+--------------------+---------------+----------------------+---------------------+---------------------+-----------------------+-----------------------------+----------------------------+----------------------------+------------------------------+---------------------------+---------------------------+-----------------------------+---------------------------+-----------------------------+-------------------------------+\n",
            "only showing top 5 rows\n",
            "\n",
            "+--------------------+--------------------+\n",
            "|      marital_status|average_capital_gain|\n",
            "+--------------------+--------------------+\n",
            "|             Widowed|   571.0715005035247|\n",
            "|            Divorced|   728.4148098131893|\n",
            "|           Separated|   535.5687804878049|\n",
            "|       Never-married|  376.58831788823363|\n",
            "|  Married-civ-spouse|  1764.8595085470085|\n",
            "|Married-spouse-ab...|   653.9832535885167|\n",
            "|   Married-AF-spouse|   432.6521739130435|\n",
            "+--------------------+--------------------+\n",
            "\n",
            "+---+-----------+------+-----------+-------------+--------------+-----------------+-------------+-----+------+------------+------------+--------------+--------------+------+---------+------------+-------------------+------------------+------------------+--------------------+---------------+----------------------+---------------------+---------------------+-----------------------+-----------------------------+----------------------------+----------------------------+------------------------------+---------------------------+---------------------------+-----------------------------+---------------------------+-----------------------------+-------------------------------+\n",
            "|age|  workclass|fnlwgt|  education|education_num|marital_status|       occupation| relationship| race|   sex|capital_gain|capital_loss|hours_per_week|native_country|income|age_x_age|age_x_fnlwgt|age_x_education_num|age_x_capital_gain|age_x_capital_loss|age_x_hours_per_week|fnlwgt_x_fnlwgt|fnlwgt_x_education_num|fnlwgt_x_capital_gain|fnlwgt_x_capital_loss|fnlwgt_x_hours_per_week|education_num_x_education_num|education_num_x_capital_gain|education_num_x_capital_loss|education_num_x_hours_per_week|capital_gain_x_capital_gain|capital_gain_x_capital_loss|capital_gain_x_hours_per_week|capital_loss_x_capital_loss|capital_loss_x_hours_per_week|hours_per_week_x_hours_per_week|\n",
            "+---+-----------+------+-----------+-------------+--------------+-----------------+-------------+-----+------+------------+------------+--------------+--------------+------+---------+------------+-------------------+------------------+------------------+--------------------+---------------+----------------------+---------------------+---------------------+-----------------------+-----------------------------+----------------------------+----------------------------+------------------------------+---------------------------+---------------------------+-----------------------------+---------------------------+-----------------------------+-------------------------------+\n",
            "| 54|    Private|140359|    7th-8th|            4|      Divorced|Machine-op-inspct|    Unmarried|White|Female|           0|        3900|            40| United-States| <=50K|     2916|     7579386|                216|                 0|            210600|                2160|    -1774187599|                561436|                    0|            547400100|                5614360|                           16|                           0|                       15600|                           160|                          0|                          0|                            0|                   15210000|                       156000|                           1600|\n",
            "| 34|    Private|216864|    HS-grad|            9|      Divorced|    Other-service|    Unmarried|White|Female|           0|        3770|            45| United-States| <=50K|     1156|     7373376|                306|                 0|            128180|                1530|     -214645760|               1951776|                    0|            817577280|                9758880|                           81|                           0|                       33930|                           405|                          0|                          0|                            0|                   14212900|                       169650|                           2025|\n",
            "| 68|Federal-gov|422013|    HS-grad|            9|      Divorced|   Prof-specialty|Not-in-family|White|Female|           0|        3683|            40| United-States| <=50K|     4624|    28696884|                612|                 0|            250444|                2720|     2001313033|               3798117|                    0|           1554273879|               16880520|                           81|                           0|                       33147|                           360|                          0|                          0|                            0|                   13564489|                       147320|                           1600|\n",
            "| 45|    Private|172274|  Doctorate|           16|      Divorced|   Prof-specialty|    Unmarried|Black|Female|           0|        3004|            35| United-States|  >50K|     2025|     7752330|                720|                 0|            135180|                1575|     -386439996|               2756384|                    0|            517511096|                6029590|                          256|                           0|                       48064|                           560|                          0|                          0|                            0|                    9024016|                       105140|                           1225|\n",
            "| 46|    Private| 45363|Prof-school|           15|      Divorced|   Prof-specialty|Not-in-family|White|  Male|           0|        2824|            40| United-States|  >50K|     2116|     2086698|                690|                 0|            129904|                1840|     2057801769|                680445|                    0|            128105112|                1814520|                          225|                           0|                       42360|                           600|                          0|                          0|                            0|                    7974976|                       112960|                           1600|\n",
            "+---+-----------+------+-----------+-------------+--------------+-----------------+-------------+-----+------+------------+------------+--------------+--------------+------+---------+------------+-------------------+------------------+------------------+--------------------+---------------+----------------------+---------------------+---------------------+-----------------------+-----------------------------+----------------------------+----------------------------+------------------------------+---------------------------+---------------------------+-----------------------------+---------------------------+-----------------------------+-------------------------------+\n",
            "only showing top 5 rows\n",
            "\n",
            "+---+-----------+------+-----------+-------------+--------------+-----------------+-------------+-----+------+------------+------------+--------------+--------------+------+---------+------------+-------------------+------------------+------------------+--------------------+---------------+----------------------+---------------------+---------------------+-----------------------+-----------------------------+----------------------------+----------------------------+------------------------------+---------------------------+---------------------------+-----------------------------+---------------------------+-----------------------------+-------------------------------+-------------------------+-----+------+\n",
            "|age|  workclass|fnlwgt|  education|education_num|marital_status|       occupation| relationship| race|   sex|capital_gain|capital_loss|hours_per_week|native_country|income|age_x_age|age_x_fnlwgt|age_x_education_num|age_x_capital_gain|age_x_capital_loss|age_x_hours_per_week|fnlwgt_x_fnlwgt|fnlwgt_x_education_num|fnlwgt_x_capital_gain|fnlwgt_x_capital_loss|fnlwgt_x_hours_per_week|education_num_x_education_num|education_num_x_capital_gain|education_num_x_capital_loss|education_num_x_hours_per_week|capital_gain_x_capital_gain|capital_gain_x_capital_loss|capital_gain_x_hours_per_week|capital_loss_x_capital_loss|capital_loss_x_hours_per_week|hours_per_week_x_hours_per_week|marital_status_statistics| male|female|\n",
            "+---+-----------+------+-----------+-------------+--------------+-----------------+-------------+-----+------+------------+------------+--------------+--------------+------+---------+------------+-------------------+------------------+------------------+--------------------+---------------+----------------------+---------------------+---------------------+-----------------------+-----------------------------+----------------------------+----------------------------+------------------------------+---------------------------+---------------------------+-----------------------------+---------------------------+-----------------------------+-------------------------------+-------------------------+-----+------+\n",
            "| 54|    Private|140359|    7th-8th|            4|      Divorced|Machine-op-inspct|    Unmarried|White|Female|           0|        3900|            40| United-States| <=50K|     2916|     7579386|                216|                 0|            210600|                2160|    -1774187599|                561436|                    0|            547400100|                5614360|                           16|                           0|                       15600|                           160|                          0|                          0|                            0|                   15210000|                       156000|                           1600|                 Divorced|10.82| 15.09|\n",
            "| 34|    Private|216864|    HS-grad|            9|      Divorced|    Other-service|    Unmarried|White|Female|           0|        3770|            45| United-States| <=50K|     1156|     7373376|                306|                 0|            128180|                1530|     -214645760|               1951776|                    0|            817577280|                9758880|                           81|                           0|                       33930|                           405|                          0|                          0|                            0|                   14212900|                       169650|                           2025|                 Divorced|10.82| 15.09|\n",
            "| 68|Federal-gov|422013|    HS-grad|            9|      Divorced|   Prof-specialty|Not-in-family|White|Female|           0|        3683|            40| United-States| <=50K|     4624|    28696884|                612|                 0|            250444|                2720|     2001313033|               3798117|                    0|           1554273879|               16880520|                           81|                           0|                       33147|                           360|                          0|                          0|                            0|                   13564489|                       147320|                           1600|                 Divorced|10.82| 15.09|\n",
            "| 45|    Private|172274|  Doctorate|           16|      Divorced|   Prof-specialty|    Unmarried|Black|Female|           0|        3004|            35| United-States|  >50K|     2025|     7752330|                720|                 0|            135180|                1575|     -386439996|               2756384|                    0|            517511096|                6029590|                          256|                           0|                       48064|                           560|                          0|                          0|                            0|                    9024016|                       105140|                           1225|                 Divorced|10.82| 15.09|\n",
            "| 46|    Private| 45363|Prof-school|           15|      Divorced|   Prof-specialty|Not-in-family|White|  Male|           0|        2824|            40| United-States|  >50K|     2116|     2086698|                690|                 0|            129904|                1840|     2057801769|                680445|                    0|            128105112|                1814520|                          225|                           0|                       42360|                           600|                          0|                          0|                            0|                    7974976|                       112960|                           1600|                 Divorced|10.82| 15.09|\n",
            "+---+-----------+------+-----------+-------------+--------------+-----------------+-------------+-----+------+------------+------------+--------------+--------------+------+---------+------------+-------------------+------------------+------------------+--------------------+---------------+----------------------+---------------------+---------------------+-----------------------+-----------------------------+----------------------------+----------------------------+------------------------------+---------------------------+---------------------------+-----------------------------+---------------------------+-----------------------------+-------------------------------+-------------------------+-----+------+\n",
            "only showing top 5 rows\n",
            "\n"
          ]
        }
      ],
      "source": [
        "main()"
      ]
    },
    {
      "cell_type": "markdown",
      "id": "a39619e2-5dfa-4671-9ffc-0ce9b8b8c90e",
      "metadata": {
        "id": "a39619e2-5dfa-4671-9ffc-0ce9b8b8c90e"
      },
      "source": [
        "## Lab Assignment\n",
        "### 1.  Spark-sql\n",
        "Add one more cell in to select rows with 'age' between 30 and 50 (inclusive) and transforms the selected pyspark dataframe into pandas dataframe and print out the summary statistics using 'describe()'. Some useful methods are:\n",
        "- `filter(...)`: filters Spark DataFrame rows using boolean conditions\n",
        "- `.toPandas()`: collects the Spark DataFrame into memory, so only use it on small to medium datasets\n",
        "- `.describe()`: gives summary stats (mean, std, min, max, quartiles)"
      ]
    },
    {
      "cell_type": "code",
      "execution_count": 44,
      "id": "fbe76370-7067-4298-a6f0-179c17091339",
      "metadata": {
        "id": "fbe76370-7067-4298-a6f0-179c17091339"
      },
      "outputs": [],
      "source": [
        "def describe_age_range(data: DataFrame, lower: int = 30, upper: int = 50):\n",
        "    \"\"\"\n",
        "    Filters rows where age is between `lower` and `upper` (inclusive),\n",
        "    converts to pandas DataFrame, and prints summary statistics.\n",
        "    \"\"\"\n",
        "    # Filter Spark DataFrame\n",
        "    filtered_data = data.filter((col(\"age\") <= upper) & (col(\"age\") >= lower))\n",
        "    # Convert to pandas\n",
        "    pandas_df = filtered_data.toPandas()\n",
        "    # Print summary statistics\n",
        "    print(f\"Summary statistics for age between {lower} and {upper}:\")\n",
        "    print(pandas_df.describe())\n",
        "\n",
        "    return pandas_df  # Optional: return if you want to use it later"
      ]
    },
    {
      "cell_type": "code",
      "execution_count": 45,
      "id": "5140ce68-45d8-42ca-84c1-2d4d23397dae",
      "metadata": {
        "id": "5140ce68-45d8-42ca-84c1-2d4d23397dae"
      },
      "outputs": [],
      "source": [
        "def main():\n",
        "    spark = SparkSession.builder.appName(\"Read Adult Dataset\").getOrCreate()\n",
        "\n",
        "    data = read_data(spark)               # Load dataset\n",
        "    data = missing_values(data)           # Handle missing values (assumed implemented)\n",
        "    data = feature_engineering(data)      # Add interaction features\n",
        "    bias_marital_status(data)             # Analyze capital gain by marital status\n",
        "    data = join_with_US_gender(spark, data)  # Enrich with gender statistics\n",
        "\n",
        "    data_df = describe_age_range(data)    # Select and Transform\n",
        "\n",
        "    data.show(5)                          # Preview final data\n",
        "    data.write.format('csv').option('header', 'true').mode('overwrite').save('saved.csv')  # Save"
      ]
    },
    {
      "cell_type": "code",
      "execution_count": 47,
      "id": "61eebf4c-e389-4d93-96a0-65e64bf19774",
      "metadata": {
        "colab": {
          "base_uri": "https://localhost:8080/"
        },
        "id": "61eebf4c-e389-4d93-96a0-65e64bf19774",
        "outputId": "4cc87005-e23c-4bea-e74f-15e294130581"
      },
      "outputs": [
        {
          "output_type": "stream",
          "name": "stdout",
          "text": [
            "going through\n",
            "+----+---------+------+------------+-------------+--------------+-----------------+-------------+-----+------+------------+------------+--------------+--------------+------+\n",
            "| age|workclass|fnlwgt|   education|education_num|marital_status|       occupation| relationship| race|   sex|capital_gain|capital_loss|hours_per_week|native_country|income|\n",
            "+----+---------+------+------------+-------------+--------------+-----------------+-------------+-----+------+------------+------------+--------------+--------------+------+\n",
            "|NULL|workclass|  NULL|   education|         NULL|marital.status|       occupation| relationship| race|   sex|        NULL|        NULL|          NULL|native.country|income|\n",
            "|  90|        ?| 77053|     HS-grad|            9|       Widowed|                ?|Not-in-family|White|Female|           0|        4356|            40| United-States| <=50K|\n",
            "|  82|  Private|132870|     HS-grad|            9|       Widowed|  Exec-managerial|Not-in-family|White|Female|           0|        4356|            18| United-States| <=50K|\n",
            "|  66|        ?|186061|Some-college|           10|       Widowed|                ?|    Unmarried|Black|Female|           0|        4356|            40| United-States| <=50K|\n",
            "|  54|  Private|140359|     7th-8th|            4|      Divorced|Machine-op-inspct|    Unmarried|White|Female|           0|        3900|            40| United-States| <=50K|\n",
            "+----+---------+------+------------+-------------+--------------+-----------------+-------------+-----+------+------------+------------+--------------+--------------+------+\n",
            "only showing top 5 rows\n",
            "\n",
            "+---+---------+------+---------+-------------+--------------+----------+------------+----+---+------------+------------+--------------+--------------+------+\n",
            "|age|workclass|fnlwgt|education|education_num|marital_status|occupation|relationship|race|sex|capital_gain|capital_loss|hours_per_week|native_country|income|\n",
            "+---+---------+------+---------+-------------+--------------+----------+------------+----+---+------------+------------+--------------+--------------+------+\n",
            "|  3|        0|     3|        0|            3|             0|         0|           0|   0|  0|           3|           3|             3|             0|     0|\n",
            "+---+---------+------+---------+-------------+--------------+----------+------------+----+---+------------+------------+--------------+--------------+------+\n",
            "\n",
            "Number of samples: 65125\n",
            "+---+---------+------+------------+-------------+--------------+-----------------+-------------+-----+------+------------+------------+--------------+--------------+------+---------+------------+-------------------+------------------+------------------+--------------------+---------------+----------------------+---------------------+---------------------+-----------------------+-----------------------------+----------------------------+----------------------------+------------------------------+---------------------------+---------------------------+-----------------------------+---------------------------+-----------------------------+-------------------------------+\n",
            "|age|workclass|fnlwgt|   education|education_num|marital_status|       occupation| relationship| race|   sex|capital_gain|capital_loss|hours_per_week|native_country|income|age_x_age|age_x_fnlwgt|age_x_education_num|age_x_capital_gain|age_x_capital_loss|age_x_hours_per_week|fnlwgt_x_fnlwgt|fnlwgt_x_education_num|fnlwgt_x_capital_gain|fnlwgt_x_capital_loss|fnlwgt_x_hours_per_week|education_num_x_education_num|education_num_x_capital_gain|education_num_x_capital_loss|education_num_x_hours_per_week|capital_gain_x_capital_gain|capital_gain_x_capital_loss|capital_gain_x_hours_per_week|capital_loss_x_capital_loss|capital_loss_x_hours_per_week|hours_per_week_x_hours_per_week|\n",
            "+---+---------+------+------------+-------------+--------------+-----------------+-------------+-----+------+------------+------------+--------------+--------------+------+---------+------------+-------------------+------------------+------------------+--------------------+---------------+----------------------+---------------------+---------------------+-----------------------+-----------------------------+----------------------------+----------------------------+------------------------------+---------------------------+---------------------------+-----------------------------+---------------------------+-----------------------------+-------------------------------+\n",
            "| 90|        ?| 77053|     HS-grad|            9|       Widowed|                ?|Not-in-family|White|Female|           0|        4356|            40| United-States| <=50K|     8100|     6934770|                810|                 0|            392040|                3600|     1642197513|                693477|                    0|            335642868|                3082120|                           81|                           0|                       39204|                           360|                          0|                          0|                            0|                   18974736|                       174240|                           1600|\n",
            "| 82|  Private|132870|     HS-grad|            9|       Widowed|  Exec-managerial|Not-in-family|White|Female|           0|        4356|            18| United-States| <=50K|     6724|    10895340|                738|                 0|            357192|                1476|      474567716|               1195830|                    0|            578781720|                2391660|                           81|                           0|                       39204|                           162|                          0|                          0|                            0|                   18974736|                        78408|                            324|\n",
            "| 66|        ?|186061|Some-college|           10|       Widowed|                ?|    Unmarried|Black|Female|           0|        4356|            40| United-States| <=50K|     4356|    12280026|                660|                 0|            287496|                2640|      258957353|               1860610|                    0|            810481716|                7442440|                          100|                           0|                       43560|                           400|                          0|                          0|                            0|                   18974736|                       174240|                           1600|\n",
            "| 54|  Private|140359|     7th-8th|            4|      Divorced|Machine-op-inspct|    Unmarried|White|Female|           0|        3900|            40| United-States| <=50K|     2916|     7579386|                216|                 0|            210600|                2160|    -1774187599|                561436|                    0|            547400100|                5614360|                           16|                           0|                       15600|                           160|                          0|                          0|                            0|                   15210000|                       156000|                           1600|\n",
            "| 41|  Private|264663|Some-college|           10|     Separated|   Prof-specialty|    Own-child|White|Female|           0|        3900|            40| United-States| <=50K|     1681|    10851183|                410|                 0|            159900|                1640|     1327026833|               2646630|                    0|           1032185700|               10586520|                          100|                           0|                       39000|                           400|                          0|                          0|                            0|                   15210000|                       156000|                           1600|\n",
            "+---+---------+------+------------+-------------+--------------+-----------------+-------------+-----+------+------------+------------+--------------+--------------+------+---------+------------+-------------------+------------------+------------------+--------------------+---------------+----------------------+---------------------+---------------------+-----------------------+-----------------------------+----------------------------+----------------------------+------------------------------+---------------------------+---------------------------+-----------------------------+---------------------------+-----------------------------+-------------------------------+\n",
            "only showing top 5 rows\n",
            "\n",
            "+--------------------+--------------------+\n",
            "|      marital_status|average_capital_gain|\n",
            "+--------------------+--------------------+\n",
            "|             Widowed|   571.0715005035247|\n",
            "|            Divorced|   728.4148098131893|\n",
            "|           Separated|   535.5687804878049|\n",
            "|       Never-married|  376.58831788823363|\n",
            "|  Married-civ-spouse|  1764.8595085470085|\n",
            "|Married-spouse-ab...|   653.9832535885167|\n",
            "|   Married-AF-spouse|   432.6521739130435|\n",
            "+--------------------+--------------------+\n",
            "\n",
            "+---+-----------+------+-----------+-------------+--------------+-----------------+-------------+-----+------+------------+------------+--------------+--------------+------+---------+------------+-------------------+------------------+------------------+--------------------+---------------+----------------------+---------------------+---------------------+-----------------------+-----------------------------+----------------------------+----------------------------+------------------------------+---------------------------+---------------------------+-----------------------------+---------------------------+-----------------------------+-------------------------------+\n",
            "|age|  workclass|fnlwgt|  education|education_num|marital_status|       occupation| relationship| race|   sex|capital_gain|capital_loss|hours_per_week|native_country|income|age_x_age|age_x_fnlwgt|age_x_education_num|age_x_capital_gain|age_x_capital_loss|age_x_hours_per_week|fnlwgt_x_fnlwgt|fnlwgt_x_education_num|fnlwgt_x_capital_gain|fnlwgt_x_capital_loss|fnlwgt_x_hours_per_week|education_num_x_education_num|education_num_x_capital_gain|education_num_x_capital_loss|education_num_x_hours_per_week|capital_gain_x_capital_gain|capital_gain_x_capital_loss|capital_gain_x_hours_per_week|capital_loss_x_capital_loss|capital_loss_x_hours_per_week|hours_per_week_x_hours_per_week|\n",
            "+---+-----------+------+-----------+-------------+--------------+-----------------+-------------+-----+------+------------+------------+--------------+--------------+------+---------+------------+-------------------+------------------+------------------+--------------------+---------------+----------------------+---------------------+---------------------+-----------------------+-----------------------------+----------------------------+----------------------------+------------------------------+---------------------------+---------------------------+-----------------------------+---------------------------+-----------------------------+-------------------------------+\n",
            "| 54|    Private|140359|    7th-8th|            4|      Divorced|Machine-op-inspct|    Unmarried|White|Female|           0|        3900|            40| United-States| <=50K|     2916|     7579386|                216|                 0|            210600|                2160|    -1774187599|                561436|                    0|            547400100|                5614360|                           16|                           0|                       15600|                           160|                          0|                          0|                            0|                   15210000|                       156000|                           1600|\n",
            "| 34|    Private|216864|    HS-grad|            9|      Divorced|    Other-service|    Unmarried|White|Female|           0|        3770|            45| United-States| <=50K|     1156|     7373376|                306|                 0|            128180|                1530|     -214645760|               1951776|                    0|            817577280|                9758880|                           81|                           0|                       33930|                           405|                          0|                          0|                            0|                   14212900|                       169650|                           2025|\n",
            "| 68|Federal-gov|422013|    HS-grad|            9|      Divorced|   Prof-specialty|Not-in-family|White|Female|           0|        3683|            40| United-States| <=50K|     4624|    28696884|                612|                 0|            250444|                2720|     2001313033|               3798117|                    0|           1554273879|               16880520|                           81|                           0|                       33147|                           360|                          0|                          0|                            0|                   13564489|                       147320|                           1600|\n",
            "| 45|    Private|172274|  Doctorate|           16|      Divorced|   Prof-specialty|    Unmarried|Black|Female|           0|        3004|            35| United-States|  >50K|     2025|     7752330|                720|                 0|            135180|                1575|     -386439996|               2756384|                    0|            517511096|                6029590|                          256|                           0|                       48064|                           560|                          0|                          0|                            0|                    9024016|                       105140|                           1225|\n",
            "| 46|    Private| 45363|Prof-school|           15|      Divorced|   Prof-specialty|Not-in-family|White|  Male|           0|        2824|            40| United-States|  >50K|     2116|     2086698|                690|                 0|            129904|                1840|     2057801769|                680445|                    0|            128105112|                1814520|                          225|                           0|                       42360|                           600|                          0|                          0|                            0|                    7974976|                       112960|                           1600|\n",
            "+---+-----------+------+-----------+-------------+--------------+-----------------+-------------+-----+------+------------+------------+--------------+--------------+------+---------+------------+-------------------+------------------+------------------+--------------------+---------------+----------------------+---------------------+---------------------+-----------------------+-----------------------------+----------------------------+----------------------------+------------------------------+---------------------------+---------------------------+-----------------------------+---------------------------+-----------------------------+-------------------------------+\n",
            "only showing top 5 rows\n",
            "\n",
            "Summary statistics for age between 30 and 50:\n",
            "                age        fnlwgt  education_num  capital_gain  capital_loss  \\\n",
            "count  32780.000000  3.278000e+04   32780.000000  32780.000000  32780.000000   \n",
            "mean      39.298109  1.895854e+05      10.434655   1296.275595    102.861928   \n",
            "std        5.894915  1.068734e+05       2.522198   8181.468310    432.955776   \n",
            "min       30.000000  1.487800e+04       1.000000      0.000000      0.000000   \n",
            "25%       34.000000  1.169270e+05       9.000000      0.000000      0.000000   \n",
            "50%       39.000000  1.778765e+05      10.000000      0.000000      0.000000   \n",
            "75%       44.000000  2.364150e+05      13.000000      0.000000      0.000000   \n",
            "max       50.000000  1.455435e+06      16.000000  99999.000000   3900.000000   \n",
            "\n",
            "       hours_per_week     age_x_age  age_x_fnlwgt  age_x_education_num  \\\n",
            "count    32780.000000  32780.000000  3.278000e+04          32780.00000   \n",
            "mean        43.261440   1579.090299  7.420700e+06            410.66504   \n",
            "std         10.884961    469.090380  4.274318e+06            120.54677   \n",
            "min          1.000000    900.000000  5.790600e+05             30.00000   \n",
            "25%         40.000000   1156.000000  4.589637e+06            330.00000   \n",
            "50%         40.000000   1521.000000  6.840798e+06            403.00000   \n",
            "75%         48.000000   1936.000000  9.361128e+06            480.00000   \n",
            "max         99.000000   2500.000000  6.147540e+07            800.00000   \n",
            "\n",
            "       age_x_capital_gain  ...  education_num_x_capital_loss  \\\n",
            "count        3.278000e+04  ...                  32780.000000   \n",
            "mean         5.333641e+04  ...                   1162.775412   \n",
            "std          3.458528e+05  ...                   5056.747775   \n",
            "min          0.000000e+00  ...                      0.000000   \n",
            "25%          0.000000e+00  ...                      0.000000   \n",
            "50%          0.000000e+00  ...                      0.000000   \n",
            "75%          0.000000e+00  ...                      0.000000   \n",
            "max          4.999950e+06  ...                  48064.000000   \n",
            "\n",
            "       education_num_x_hours_per_week  capital_gain_x_capital_gain  \\\n",
            "count                    32780.000000                 3.278000e+04   \n",
            "mean                       454.826174                 1.620511e+07   \n",
            "std                        170.625702                 1.174308e+08   \n",
            "min                         12.000000                 0.000000e+00   \n",
            "25%                        360.000000                 0.000000e+00   \n",
            "50%                        420.000000                 0.000000e+00   \n",
            "75%                        540.000000                 0.000000e+00   \n",
            "max                       1584.000000                 1.409865e+09   \n",
            "\n",
            "       capital_gain_x_capital_loss  capital_gain_x_hours_per_week  \\\n",
            "count                      32780.0                   3.278000e+04   \n",
            "mean                           0.0                   6.364586e+04   \n",
            "std                            0.0                   4.358198e+05   \n",
            "min                            0.0                   0.000000e+00   \n",
            "25%                            0.0                   0.000000e+00   \n",
            "50%                            0.0                   0.000000e+00   \n",
            "75%                            0.0                   0.000000e+00   \n",
            "max                            0.0                   7.999920e+06   \n",
            "\n",
            "       capital_loss_x_capital_loss  capital_loss_x_hours_per_week  \\\n",
            "count                 3.278000e+04                   32780.000000   \n",
            "mean                  1.980256e+05                    4689.146797   \n",
            "std                   8.750531e+05                   20548.069830   \n",
            "min                   0.000000e+00                       0.000000   \n",
            "25%                   0.000000e+00                       0.000000   \n",
            "50%                   0.000000e+00                       0.000000   \n",
            "75%                   0.000000e+00                       0.000000   \n",
            "max                   1.521000e+07                  239085.000000   \n",
            "\n",
            "       hours_per_week_x_hours_per_week         male        female  \n",
            "count                     32780.000000  12716.00000  12716.000000  \n",
            "mean                       1990.030933     28.42240     28.048213  \n",
            "std                        1076.615098     18.60363     13.579597  \n",
            "min                           1.000000      3.58000     11.610000  \n",
            "25%                        1600.000000     10.82000     15.090000  \n",
            "50%                        1600.000000     10.82000     15.090000  \n",
            "75%                        2304.000000     47.35000     41.810000  \n",
            "max                        9801.000000     67.54000     68.330000  \n",
            "\n",
            "[8 rows x 29 columns]\n",
            "+---+----------------+------+---------+-------------+--------------------+-----------------+-------------+------------------+------+------------+------------+--------------+------------------+------+---------+------------+-------------------+------------------+------------------+--------------------+---------------+----------------------+---------------------+---------------------+-----------------------+-----------------------------+----------------------------+----------------------------+------------------------------+---------------------------+---------------------------+-----------------------------+---------------------------+-----------------------------+-------------------------------+-------------------------+----+------+\n",
            "|age|       workclass|fnlwgt|education|education_num|      marital_status|       occupation| relationship|              race|   sex|capital_gain|capital_loss|hours_per_week|    native_country|income|age_x_age|age_x_fnlwgt|age_x_education_num|age_x_capital_gain|age_x_capital_loss|age_x_hours_per_week|fnlwgt_x_fnlwgt|fnlwgt_x_education_num|fnlwgt_x_capital_gain|fnlwgt_x_capital_loss|fnlwgt_x_hours_per_week|education_num_x_education_num|education_num_x_capital_gain|education_num_x_capital_loss|education_num_x_hours_per_week|capital_gain_x_capital_gain|capital_gain_x_capital_loss|capital_gain_x_hours_per_week|capital_loss_x_capital_loss|capital_loss_x_hours_per_week|hours_per_week_x_hours_per_week|marital_status_statistics|male|female|\n",
            "+---+----------------+------+---------+-------------+--------------------+-----------------+-------------+------------------+------+------------+------------+--------------+------------------+------+---------+------------+-------------------+------------------+------------------+--------------------+---------------+----------------------+---------------------+---------------------+-----------------------+-----------------------------+----------------------------+----------------------------+------------------------------+---------------------------+---------------------------+-----------------------------+---------------------------+-----------------------------+-------------------------------+-------------------------+----+------+\n",
            "| 48|         Private|121253|Bachelors|           13|Married-spouse-ab...|            Sales|    Unmarried|             White|Female|           0|        2472|            70|     United-States|  >50K|     2304|     5820144|                624|                 0|            118656|                3360|     1817388121|               1576289|                    0|            299737416|                8487710|                          169|                           0|                       32136|                           910|                          0|                          0|                            0|                    6110784|                       173040|                           4900|                     NULL|NULL|  NULL|\n",
            "| 34|         Private| 25322|Bachelors|           13|Married-spouse-ab...|Machine-op-inspct|Not-in-family|Asian-Pac-Islander|  Male|           0|        2339|            40|                 ?| <=50K|     1156|      860948|                442|                 0|             79526|                1360|      641203684|                329186|                    0|             59228158|                1012880|                          169|                           0|                       30407|                           520|                          0|                          0|                            0|                    5470921|                        93560|                           1600|                     NULL|NULL|  NULL|\n",
            "| 31|Self-emp-not-inc|161745|Bachelors|           13|Married-spouse-ab...|  Exec-managerial|Not-in-family|             White|  Male|           0|        1980|            60|     United-States| <=50K|      961|     5014095|                403|                 0|             61380|                1860|      391641249|               2102685|                    0|            320255100|                9704700|                          169|                           0|                       25740|                           780|                          0|                          0|                            0|                    3920400|                       118800|                           3600|                     NULL|NULL|  NULL|\n",
            "| 20|               ?|114746|     11th|            7|Married-spouse-ab...|                ?|    Own-child|Asian-Pac-Islander|Female|           0|        1762|            40|             South| <=50K|      400|     2294920|                140|                 0|             35240|                 800|      281742628|                803222|                    0|            202182452|                4589840|                           49|                           0|                       12334|                           280|                          0|                          0|                            0|                    3104644|                        70480|                           1600|                     NULL|NULL|  NULL|\n",
            "| 21|         Private|213341|     11th|            7|Married-spouse-ab...|Handlers-cleaners|    Own-child|             White|  Male|           0|        1762|            40|Dominican-Republic| <=50K|      441|     4480161|                147|                 0|             37002|                 840|    -1730257975|               1493387|                    0|            375906842|                8533640|                           49|                           0|                       12334|                           280|                          0|                          0|                            0|                    3104644|                        70480|                           1600|                     NULL|NULL|  NULL|\n",
            "+---+----------------+------+---------+-------------+--------------------+-----------------+-------------+------------------+------+------------+------------+--------------+------------------+------+---------+------------+-------------------+------------------+------------------+--------------------+---------------+----------------------+---------------------+---------------------+-----------------------+-----------------------------+----------------------------+----------------------------+------------------------------+---------------------------+---------------------------+-----------------------------+---------------------------+-----------------------------+-------------------------------+-------------------------+----+------+\n",
            "only showing top 5 rows\n",
            "\n"
          ]
        }
      ],
      "source": [
        "main()"
      ]
    },
    {
      "cell_type": "code",
      "execution_count": 49,
      "id": "e6d57e78-917d-47db-b43e-081f6a24ac2e",
      "metadata": {
        "id": "e6d57e78-917d-47db-b43e-081f6a24ac2e"
      },
      "outputs": [],
      "source": [
        "spark.stop()"
      ]
    },
    {
      "cell_type": "markdown",
      "id": "6e4e1eca-854e-40f5-a4bd-1d0e3a58308a",
      "metadata": {
        "id": "6e4e1eca-854e-40f5-a4bd-1d0e3a58308a"
      },
      "source": [
        "### 2. Word Count\n",
        "Save only the words that have count greater or equal to 3.\n",
        "\n",
        "#### 1. Setup Spark Session"
      ]
    },
    {
      "cell_type": "code",
      "execution_count": 53,
      "id": "30e7fa0a-4769-4129-8288-ae2a2d4d33f4",
      "metadata": {
        "id": "30e7fa0a-4769-4129-8288-ae2a2d4d33f4"
      },
      "outputs": [],
      "source": [
        "from pyspark.sql import SparkSession\n",
        "\n",
        "spark = SparkSession.builder \\\n",
        "    .appName(\"WordCount\") \\\n",
        "    .master(\"local[*]\") \\\n",
        "    .getOrCreate()"
      ]
    },
    {
      "cell_type": "markdown",
      "id": "d1b8ca0c-bbdf-4b25-8f8f-2aefb008dabb",
      "metadata": {
        "id": "d1b8ca0c-bbdf-4b25-8f8f-2aefb008dabb"
      },
      "source": [
        "#### 2. Read Text File\n",
        "Fill in your text file direction"
      ]
    },
    {
      "cell_type": "code",
      "execution_count": 54,
      "id": "670d34cc-1161-48b9-8591-62b9ca1c3598",
      "metadata": {
        "colab": {
          "base_uri": "https://localhost:8080/"
        },
        "id": "670d34cc-1161-48b9-8591-62b9ca1c3598",
        "outputId": "ab7c79dd-679f-441c-a810-443ef9ed0429"
      },
      "outputs": [
        {
          "output_type": "stream",
          "name": "stdout",
          "text": [
            "+--------------------+\n",
            "|               value|\n",
            "+--------------------+\n",
            "|MapReduce is a pr...|\n",
            "|It is inspired by...|\n",
            "|The Map function ...|\n",
            "|while the Reduce ...|\n",
            "|MapReduce enables...|\n",
            "|This approach is ...|\n",
            "+--------------------+\n",
            "\n"
          ]
        }
      ],
      "source": [
        "# Each line becomes a row in the DataFrame\n",
        "lines = spark.read.text(\"/content/input.txt\")\n",
        "lines.show()"
      ]
    },
    {
      "cell_type": "markdown",
      "id": "3bdcfc25-a2d0-4556-a12d-75cc596c040d",
      "metadata": {
        "id": "3bdcfc25-a2d0-4556-a12d-75cc596c040d"
      },
      "source": [
        "#### 3. Split Lines into Words"
      ]
    },
    {
      "cell_type": "code",
      "execution_count": 55,
      "id": "665e6ee9-99eb-4805-a341-8d59c1ee5b8a",
      "metadata": {
        "colab": {
          "base_uri": "https://localhost:8080/"
        },
        "id": "665e6ee9-99eb-4805-a341-8d59c1ee5b8a",
        "outputId": "f6bbc947-01ea-4fe3-b1cb-e2aa3194a272"
      },
      "outputs": [
        {
          "output_type": "stream",
          "name": "stdout",
          "text": [
            "+-----------+\n",
            "|       word|\n",
            "+-----------+\n",
            "|  MapReduce|\n",
            "|         is|\n",
            "|          a|\n",
            "|programming|\n",
            "|      model|\n",
            "|        for|\n",
            "| processing|\n",
            "|      large|\n",
            "|       data|\n",
            "|      sets.|\n",
            "|         It|\n",
            "|         is|\n",
            "|   inspired|\n",
            "|         by|\n",
            "|        the|\n",
            "|        map|\n",
            "|        and|\n",
            "|     reduce|\n",
            "|  functions|\n",
            "|   commonly|\n",
            "+-----------+\n",
            "only showing top 20 rows\n",
            "\n"
          ]
        }
      ],
      "source": [
        "from pyspark.sql.functions import split, explode, col\n",
        "\n",
        "# Split lines into arrays of words, then explode into one word per row\n",
        "words = lines.select(explode(split(col(\"value\"), \" \")).alias(\"word\"))\n",
        "words.show()"
      ]
    },
    {
      "cell_type": "markdown",
      "id": "facb5fb9-e57c-4cb3-95b4-8ac2e0134245",
      "metadata": {
        "id": "facb5fb9-e57c-4cb3-95b4-8ac2e0134245"
      },
      "source": [
        "#### 4. Count Word Frequencies\n",
        "Fill in the column name"
      ]
    },
    {
      "cell_type": "code",
      "execution_count": 56,
      "id": "d33c4dc0-767c-4c64-9e8a-02dda36bcd99",
      "metadata": {
        "colab": {
          "base_uri": "https://localhost:8080/"
        },
        "id": "d33c4dc0-767c-4c64-9e8a-02dda36bcd99",
        "outputId": "0a9718a5-7f2d-4631-ff95-fd5c79a0b9cf"
      },
      "outputs": [
        {
          "output_type": "stream",
          "name": "stdout",
          "text": [
            "+------------+-----+\n",
            "|        word|count|\n",
            "+------------+-----+\n",
            "|         map|    1|\n",
            "|        used|    2|\n",
            "|programming.|    1|\n",
            "|   MapReduce|    2|\n",
            "|     element|    1|\n",
            "|  functional|    1|\n",
            "|          by|    1|\n",
            "|  aggregates|    1|\n",
            "|      widely|    1|\n",
            "|         log|    1|\n",
            "|         for|    1|\n",
            "|          in|    2|\n",
            "| programming|    1|\n",
            "| collection,|    1|\n",
            "|       model|    1|\n",
            "| distributed|    1|\n",
            "|   machines.|    1|\n",
            "|     applies|    1|\n",
            "|          is|    3|\n",
            "|       sets.|    1|\n",
            "+------------+-----+\n",
            "only showing top 20 rows\n",
            "\n"
          ]
        }
      ],
      "source": [
        "word_counts = words.groupBy(\"word\").count()\n",
        "word_counts.show()"
      ]
    },
    {
      "cell_type": "markdown",
      "id": "f6040d78-192a-47b1-8736-fa885b9d2ce6",
      "metadata": {
        "id": "f6040d78-192a-47b1-8736-fa885b9d2ce6"
      },
      "source": [
        "#### 5. Filter Rare Words\n",
        "Fill in the condition in `filter()`"
      ]
    },
    {
      "cell_type": "code",
      "execution_count": 60,
      "id": "ae83ec34-9b09-438e-adba-0517f8a2d1bb",
      "metadata": {
        "colab": {
          "base_uri": "https://localhost:8080/"
        },
        "id": "ae83ec34-9b09-438e-adba-0517f8a2d1bb",
        "outputId": "cd5b7df3-9231-419c-9e4e-6107f1901f0b"
      },
      "outputs": [
        {
          "output_type": "stream",
          "name": "stdout",
          "text": [
            "+----+-----+\n",
            "|word|count|\n",
            "+----+-----+\n",
            "|  is|    3|\n",
            "| the|    3|\n",
            "|   a|    3|\n",
            "+----+-----+\n",
            "\n"
          ]
        }
      ],
      "source": [
        "word_counts_filtered = word_counts.filter(col(\"count\")>=3)\n",
        "word_counts_filtered.show()"
      ]
    },
    {
      "cell_type": "markdown",
      "id": "1a15fa57-a452-4f61-b333-65ad0cdce681",
      "metadata": {
        "id": "1a15fa57-a452-4f61-b333-65ad0cdce681"
      },
      "source": [
        "#### 6. Stop the Spark Session"
      ]
    },
    {
      "cell_type": "code",
      "execution_count": 61,
      "id": "48f280ef-676e-4da7-815d-6c8f1cc54ec8",
      "metadata": {
        "id": "48f280ef-676e-4da7-815d-6c8f1cc54ec8"
      },
      "outputs": [],
      "source": [
        "spark.stop()"
      ]
    }
  ],
  "metadata": {
    "kernelspec": {
      "display_name": "base",
      "language": "python",
      "name": "python3"
    },
    "language_info": {
      "codemirror_mode": {
        "name": "ipython",
        "version": 3
      },
      "file_extension": ".py",
      "mimetype": "text/x-python",
      "name": "python",
      "nbconvert_exporter": "python",
      "pygments_lexer": "ipython3",
      "version": "3.12.7"
    },
    "colab": {
      "provenance": []
    }
  },
  "nbformat": 4,
  "nbformat_minor": 5
}